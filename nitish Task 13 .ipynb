{
 "cells": [
  {
   "cell_type": "markdown",
   "id": "89ffda57",
   "metadata": {},
   "source": [
    "1. Write a function called \"add_numbers\" that takes two integers as input and returns their sum.\n",
    "\n",
    "2. Write a function called \"multiply_numbers\" that takes two integers as input and returns their product.\n",
    "\n",
    "3. Write a function called \"calculate_average\" that takes a list of numbers as input and returns the average of thosenumbers.\n",
    "\n",
    "4. Write a function called \"is_even\" that takes an integer as input and returns True if the number is even, and False otherwise.\n",
    "\n",
    "5. Write a function called \"reverse_string\" that takes a string as input and returns the reverse of that string.\n",
    "\n",
    "6. Write a function called \"count_vowels\" that takes a string as input and returns the number of vowels (a, e, i, o, u) in that string.\n",
    "\n",
    "7. Write a function called \"find_max\" that takes a list of numbers as input and returns the maximum value in that list.\n",
    "\n",
    "8. Write a function called \"find_min\" that takes a list of numbers as input and returns the minimum value in that list."
   ]
  },
  {
   "cell_type": "code",
   "execution_count": 5,
   "id": "37b9bf9a",
   "metadata": {},
   "outputs": [
    {
     "name": "stdout",
     "output_type": "stream",
     "text": [
      "17\n"
     ]
    }
   ],
   "source": [
    "# question 1\n",
    "def add_numbers(x,y):\n",
    "    ''' addition of two numbers'''\n",
    "    print(x+y)\n",
    "add_numbers(8,9)"
   ]
  },
  {
   "cell_type": "code",
   "execution_count": 7,
   "id": "d02ba398",
   "metadata": {},
   "outputs": [
    {
     "data": {
      "text/plain": [
       "72"
      ]
     },
     "execution_count": 7,
     "metadata": {},
     "output_type": "execute_result"
    }
   ],
   "source": [
    "# question 2\n",
    "def multiply_number(a,b):\n",
    "    ''' multiplication of two numbers'''\n",
    "    return a*b\n",
    "multiply_number(8,9)"
   ]
  },
  {
   "cell_type": "code",
   "execution_count": 9,
   "id": "c2e2e422",
   "metadata": {},
   "outputs": [
    {
     "name": "stdout",
     "output_type": "stream",
     "text": [
      "27.25\n"
     ]
    }
   ],
   "source": [
    "# question : 3\n",
    "def calculate_average(n,a,b,c):\n",
    "    print(n+a+b+c/4)\n",
    "calculate_average(8,9,8,9)"
   ]
  },
  {
   "cell_type": "code",
   "execution_count": 14,
   "id": "4b2ab138",
   "metadata": {},
   "outputs": [
    {
     "data": {
      "text/plain": [
       "'True'"
      ]
     },
     "execution_count": 14,
     "metadata": {},
     "output_type": "execute_result"
    }
   ],
   "source": [
    "# question : 4\n",
    "def is_even(an):\n",
    "    if an %2 == 0:\n",
    "        return \"True\"\n",
    "    else:\n",
    "        return \"False\"\n",
    "is_even(2)\n",
    "    "
   ]
  },
  {
   "cell_type": "code",
   "execution_count": 9,
   "id": "c913416f",
   "metadata": {},
   "outputs": [
    {
     "name": "stdout",
     "output_type": "stream",
     "text": [
      "ris ujaRagaN\n"
     ]
    }
   ],
   "source": [
    "# question: 5\n",
    "def reverse_string(AN):\n",
    "    print(AN[::-1])\n",
    "reverse_string(\"NagaRaju sir\")\n"
   ]
  },
  {
   "cell_type": "code",
   "execution_count": 8,
   "id": "e86510b3",
   "metadata": {},
   "outputs": [
    {
     "name": "stdout",
     "output_type": "stream",
     "text": [
      "5\n"
     ]
    }
   ],
   "source": [
    "# question: 6\n",
    "def count_vowels(A):\n",
    "    vowels=0\n",
    "    while A:\n",
    "        for i in A:\n",
    "            if i in (('A','E','I','O','U','a','i','e','o','u')):\n",
    "                vowels = vowels+1\n",
    "        break\n",
    "    print(vowels)\n",
    "count_vowels(\"NagaRaju sir\")"
   ]
  },
  {
   "cell_type": "code",
   "execution_count": 6,
   "id": "4cdefb30",
   "metadata": {},
   "outputs": [
    {
     "name": "stdout",
     "output_type": "stream",
     "text": [
      "8\n"
     ]
    }
   ],
   "source": [
    "# question: 7\n",
    "def find_max(A):\n",
    "    print(max(A))\n",
    "find_max([1,2,3,4,5,6,7,8])"
   ]
  },
  {
   "cell_type": "code",
   "execution_count": 10,
   "id": "083a5a57",
   "metadata": {},
   "outputs": [
    {
     "name": "stdout",
     "output_type": "stream",
     "text": [
      "9\n"
     ]
    }
   ],
   "source": [
    "# question: 8\n",
    "def find_min(A):\n",
    "    print(min(A))\n",
    "find_min([199,212314,9,553,43363,76,345345,34534])\n"
   ]
  }
 ],
 "metadata": {
  "kernelspec": {
   "display_name": "Python 3 (ipykernel)",
   "language": "python",
   "name": "python3"
  },
  "language_info": {
   "codemirror_mode": {
    "name": "ipython",
    "version": 3
   },
   "file_extension": ".py",
   "mimetype": "text/x-python",
   "name": "python",
   "nbconvert_exporter": "python",
   "pygments_lexer": "ipython3",
   "version": "3.11.4"
  }
 },
 "nbformat": 4,
 "nbformat_minor": 5
}
