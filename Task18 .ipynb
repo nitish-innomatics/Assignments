{
 "cells": [
  {
   "cell_type": "markdown",
   "id": "5e0a111f",
   "metadata": {},
   "source": [
    " In this assignment, you will create a Python program to calculate the average grade of students in a function. However, the program should handle various exceptions that might occur during user input and grade calculation. Requirements 1.Your program should prompt the user to enter the total number of students. 2.For each student, prompt the user to enter their name and three subject marks (out of 100). 3.Handle the following exceptions|: a. ValueError: If the user enters a non-numeric value for the number of students or subject marks. b. ZeroDivisionError: If any student's average marks cannot be calculated due to division by zero (e.g., no subject marks provided). c. NegativeValueError: If any student's marks are negative. 4. Display appropriate error messages for each exception and prompt the user to try again. 5. Use a try-except block for exception handling. 6. Calculate the average marks for each student and display their names along with their average marks. 7. Calculate and display the overall class average. 8. Implement a loop so that the user can re-enter data if an exception occurs or continue calculating for another class. 9. Include a graceful exit message when the user decides to stop."
   ]
  },
  {
   "cell_type": "code",
   "execution_count": 1,
   "id": "aeb00a9d",
   "metadata": {},
   "outputs": [
    {
     "name": "stdout",
     "output_type": "stream",
     "text": [
      "enter no.of students: 3\n",
      "enter name of students 1:ank\n",
      "enter subject 1 marks of ank:89\n",
      "enter subject 2 marks of ank:87\n",
      "enter subject 3 marks of ank:85\n",
      "ank average marks :87.0\n",
      "enter name of students 2:nk\n",
      "enter subject 1 marks of nk:99\n",
      "enter subject 2 marks of nk:98\n",
      "enter subject 3 marks of nk:97\n",
      "nk average marks :98.0\n",
      "enter name of students 3:an\n",
      "enter subject 1 marks of an:89\n",
      "enter subject 2 marks of an:90\n",
      "enter subject 3 marks of an:99\n",
      "an average marks :92.66666666666667\n",
      "run successfully\n"
     ]
    }
   ],
   "source": [
    "try:\n",
    "    def grade():\n",
    "        students= int(input(\"enter no.of students: \"))\n",
    "        averagemarks = []\n",
    "        for i in range(1,students+1):\n",
    "            var = []\n",
    "            studentname = input(\"enter name of students {}:\".format(i))\n",
    "            for j in range(3):\n",
    "                subject = int(input(f\"enter subject {j+1} marks of {studentname}:\"))\n",
    "                var.append(subject)\n",
    "            average = sum(var)/len(var)\n",
    "            print(f\"{studentname} average marks :{average}\")\n",
    "            averagemarks.append(average)\n",
    "        return averagemarks\n",
    "        average = sum(averagemarks)/len(averagemarks)\n",
    "        print(averagemarks)\n",
    "        \n",
    "    \n",
    "    grade()\n",
    "except ValueError:\n",
    "    print(\"enter integer only\")\n",
    "    \n",
    "except ZeroDivisionError:\n",
    "    print(\"we cannot calculate avg due to division error\")\n",
    "    \n",
    "except NegativeValueError:\n",
    "    print(\"enter positive values only\")\n",
    "    \n",
    "    \n",
    "else:\n",
    "    print(\"run successfully\")"
   ]
  }
 ],
 "metadata": {
  "kernelspec": {
   "display_name": "Python 3 (ipykernel)",
   "language": "python",
   "name": "python3"
  },
  "language_info": {
   "codemirror_mode": {
    "name": "ipython",
    "version": 3
   },
   "file_extension": ".py",
   "mimetype": "text/x-python",
   "name": "python",
   "nbconvert_exporter": "python",
   "pygments_lexer": "ipython3",
   "version": "3.11.4"
  }
 },
 "nbformat": 4,
 "nbformat_minor": 5
}
