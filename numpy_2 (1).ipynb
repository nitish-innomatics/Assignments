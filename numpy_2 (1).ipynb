{
 "cells": [
  {
   "cell_type": "markdown",
   "id": "e4decde1",
   "metadata": {},
   "source": [
    "**Creation of ndarray**\n",
    "\n",
    "1. Write python code to create 3d array in different ways with 15 elements.\n",
    "2. Array Creation:\n",
    "a. Create a 4D NumPy array containing the first 12 positive integers as arr1.\n",
    "b. Create a 3D NumPy array1 with 20 random elements containing integers between 0 and 1.\n",
    "3. Find all attributes of array1 and array2\n",
    "4. Apply measure and describe the data (attributes and descriptive statistics) to above arrays using NumPy.\n",
    "\n",
    "\n",
    "**Array Slicing and Indexing:**\n",
    "\n",
    "a. Creating Arrays:\n",
    "      - Create a 1-dimensional NumPy array  arr1 with the values [0, 11, 26, 73, 42, 51, 6,77, 8,29].\n",
    "      - Create a 2-dimensional NumPy array  arr2  with the values  [[0, 1, 2], [3, 4, 5], [6, 7, 8]].\n",
    "      \n",
    " b.Basic Indexing:\n",
    "      - Print the element at index 3 of  arr1.\n",
    "      - Print the element at row 2, column 1 of  arr2\n",
    "\n",
    "   c. Array Slicing:\n",
    "      - Print the first five elements of `arr1`.\n",
    "      - Print the subarray of `arr2` consisting of the last two rows and the first two columns.\n",
    "       - Print every second element starting from index 1 up to index 7 of `arr1`.\n",
    "\n",
    "\n",
    "\n",
    "\n",
    "\n",
    "\n",
    "\n",
    "**Data Type Manipulation**\n",
    "\n",
    "a. Creating Arrays with Specific Data Types:\n",
    "      - Create a 1-dimensional NumPy array `int_array` with the values `[1, 2, 3, 4, 5]` and the data type `int16`.\n",
    "      - Create a 1-dimensional NumPy array `float_array` with the values `[0.1, 0.2, 0.3, 0.4, 0.5]` and the data type `float64`.\n",
    "      \n",
    "b. Data Type Conversion:\n",
    "      - Convert the `float_array` to an array with data type `int32`. Print the result.\n",
    "      - Convert the `int_array` to an array with data type `float32`. Print the result.\n",
    "\n",
    "**Generating Random Numbers:**\n",
    "\n",
    "1.\tUse numpy.random.randint() to create an array rand_integers containing 10 random integers between 0 and 100 (inclusive).\n",
    "\n",
    "2.\tUse numpy.random.uniform() to create an array rand_uniform containing 5 random numbers sampled from a uniform distribution between -1 and 1.\n",
    "\n",
    "3.\tCreate an array rand_matrix with random integers between 50 and 100 (inclusive).and reshape it to 2-dimensional (4 x 4) matrix\n",
    "\n",
    "4.\tApply descriptive statistics for rand_matrix.\n",
    "\n",
    "\n",
    "**Analyze the Data:**\n",
    "\n",
    "Salaries = [87877, 54494, 54804, 85051, 52453, 31250, 94868, 66349, 39828, 60501, 58570, 74906, 41671, 51428, 56414, 98446, 56819, 82833, 50477, 62898, 99658, 89224, 34225, 79172, 32199, 63795, 90947, 55723, 64557, 3113638]\n",
    "\n",
    "\n",
    "\n",
    "\n",
    "Describe the data using numpy array.\n",
    "Measure the following:\n",
    "1.\tHow many employees are getting more less than 50000?\n",
    "\n",
    "2.\tIs it following Normal Distribution?\n",
    "\n",
    "3.\tWhat is the median salary?\n",
    "\n",
    "4.\tWhat is the range of salaries for this company?\n",
    "\n",
    "5.\tFind the salaries between average salary and 75% of salaries?\n",
    "\n",
    "6.\tHow many employees are getting less than 25 % of salaries ?\n",
    "\n"
   ]
  },
  {
   "cell_type": "markdown",
   "id": "a6ee79fb",
   "metadata": {},
   "source": [
    "## creation of N-D array"
   ]
  },
  {
   "cell_type": "code",
   "execution_count": 3,
   "id": "8e433f20",
   "metadata": {},
   "outputs": [],
   "source": [
    "import numpy as na"
   ]
  },
  {
   "cell_type": "code",
   "execution_count": 6,
   "id": "c47eb3d0",
   "metadata": {},
   "outputs": [
    {
     "name": "stdout",
     "output_type": "stream",
     "text": [
      "[[ 1  2  3  4  5  6  7  8  9 10 11 12 14 13 15]]\n"
     ]
    },
    {
     "data": {
      "text/plain": [
       "2"
      ]
     },
     "execution_count": 6,
     "metadata": {},
     "output_type": "execute_result"
    }
   ],
   "source": [
    "# 1)at creating\n",
    "array1 = na.array([1,2,3,4,5,6,7,8,9,10,11,12,14,13,15],ndmin = 3)\n",
    "print(array1)\n",
    "array1.ndim"
   ]
  },
  {
   "cell_type": "code",
   "execution_count": 9,
   "id": "fa61409a",
   "metadata": {},
   "outputs": [
    {
     "data": {
      "text/plain": [
       "array([[[ 1,  2,  3,  4,  5],\n",
       "        [ 6,  7,  8,  9, 10],\n",
       "        [11, 12, 14, 13, 15]]])"
      ]
     },
     "execution_count": 9,
     "metadata": {},
     "output_type": "execute_result"
    }
   ],
   "source": [
    "# using reshape\n",
    "array1 = na.array([1,2,3,4,5,6,7,8,9,10,11,12,14,13,15]).reshape(1,3,5)\n",
    "array1"
   ]
  },
  {
   "cell_type": "code",
   "execution_count": 12,
   "id": "b29878d5",
   "metadata": {},
   "outputs": [
    {
     "name": "stdout",
     "output_type": "stream",
     "text": [
      "[[[ 1  2  3  4  5  6  7  8  9 10 11 12 14 13 15]]]\n"
     ]
    }
   ],
   "source": [
    "# using square brackets\n",
    "array1 = na.array([[[1,2,3,4,5,6,7,8,9,10,11,12,14,13,15]]])\n",
    "array1.ndim\n",
    "print(array1)"
   ]
  },
  {
   "cell_type": "code",
   "execution_count": 15,
   "id": "50fda71a",
   "metadata": {},
   "outputs": [
    {
     "name": "stdout",
     "output_type": "stream",
     "text": [
      "[[[[ 1  2  3  4  5  6  7  8  9 10 11 12]]]]\n"
     ]
    },
    {
     "data": {
      "text/plain": [
       "4"
      ]
     },
     "execution_count": 15,
     "metadata": {},
     "output_type": "execute_result"
    }
   ],
   "source": [
    "array1 = na.array([1,2,3,4,5,6,7,8,9,10,11,12],ndmin = 4)\n",
    "print(array1)\n",
    "array1.ndim"
   ]
  },
  {
   "cell_type": "code",
   "execution_count": 17,
   "id": "86143af1",
   "metadata": {},
   "outputs": [
    {
     "data": {
      "text/plain": [
       "array([[0.92159191, 0.1800372 , 0.2752481 , 0.85169667, 0.73043214,\n",
       "        0.10472116, 0.37340943, 0.12623971, 0.49601778, 0.92158508,\n",
       "        0.3399594 , 0.65873984, 0.24964266, 0.26601582, 0.62111942,\n",
       "        0.09437062, 0.32734622, 0.76544195, 0.74433759, 0.97223977]])"
      ]
     },
     "execution_count": 17,
     "metadata": {},
     "output_type": "execute_result"
    }
   ],
   "source": [
    "arr = na.random.rand(1,20)\n",
    "arr"
   ]
  },
  {
   "cell_type": "markdown",
   "id": "cc339336",
   "metadata": {},
   "source": [
    "### ARRAY SLICING AND INDEXING"
   ]
  },
  {
   "cell_type": "code",
   "execution_count": 41,
   "id": "b851e2ca",
   "metadata": {},
   "outputs": [
    {
     "data": {
      "text/plain": [
       "array([[[0, 1, 2],\n",
       "        [3, 4, 5],\n",
       "        [6, 7, 8]]])"
      ]
     },
     "execution_count": 41,
     "metadata": {},
     "output_type": "execute_result"
    }
   ],
   "source": [
    "arr = na.array([0, 11, 26, 73, 42, 51, 6,77, 8,29])\n",
    "arr2 = na.array([[0, 1, 2], [3, 4, 5], [6, 7, 8]]).reshape(1,3,3)\n",
    "arr2"
   ]
  },
  {
   "cell_type": "code",
   "execution_count": 42,
   "id": "6aac9255",
   "metadata": {},
   "outputs": [
    {
     "data": {
      "text/plain": [
       "73"
      ]
     },
     "execution_count": 42,
     "metadata": {},
     "output_type": "execute_result"
    }
   ],
   "source": [
    "arr[3]"
   ]
  },
  {
   "cell_type": "code",
   "execution_count": 45,
   "id": "dde13574",
   "metadata": {},
   "outputs": [
    {
     "data": {
      "text/plain": [
       "7"
      ]
     },
     "execution_count": 45,
     "metadata": {},
     "output_type": "execute_result"
    }
   ],
   "source": [
    "arr2[0][2,1]"
   ]
  },
  {
   "cell_type": "code",
   "execution_count": 49,
   "id": "942b1d89",
   "metadata": {},
   "outputs": [
    {
     "data": {
      "text/plain": [
       "array([ 0, 11, 26, 73, 42])"
      ]
     },
     "execution_count": 49,
     "metadata": {},
     "output_type": "execute_result"
    }
   ],
   "source": [
    "arr[0:5]"
   ]
  },
  {
   "cell_type": "code",
   "execution_count": 55,
   "id": "c359a292",
   "metadata": {},
   "outputs": [
    {
     "data": {
      "text/plain": [
       "array([[3, 4, 5],\n",
       "       [6, 7, 8]])"
      ]
     },
     "execution_count": 55,
     "metadata": {},
     "output_type": "execute_result"
    }
   ],
   "source": [
    " arr2[0][1:3,0:3]"
   ]
  },
  {
   "cell_type": "code",
   "execution_count": 57,
   "id": "258d4d66",
   "metadata": {},
   "outputs": [
    {
     "data": {
      "text/plain": [
       "array([11, 73, 51, 77])"
      ]
     },
     "execution_count": 57,
     "metadata": {},
     "output_type": "execute_result"
    }
   ],
   "source": [
    "arr[1:8:2]"
   ]
  },
  {
   "cell_type": "markdown",
   "id": "eb22c03a",
   "metadata": {},
   "source": [
    "### Data Type Manipulation"
   ]
  },
  {
   "cell_type": "code",
   "execution_count": 69,
   "id": "4f4cfc66",
   "metadata": {},
   "outputs": [
    {
     "data": {
      "text/plain": [
       "dtype('int32')"
      ]
     },
     "execution_count": 69,
     "metadata": {},
     "output_type": "execute_result"
    }
   ],
   "source": [
    "int_array = na.array([1, 2, 3, 4, 5])\n",
    "int_array.dtype"
   ]
  },
  {
   "cell_type": "code",
   "execution_count": 67,
   "id": "2ea088ec",
   "metadata": {},
   "outputs": [
    {
     "data": {
      "text/plain": [
       "dtype('int16')"
      ]
     },
     "execution_count": 67,
     "metadata": {},
     "output_type": "execute_result"
    }
   ],
   "source": [
    "int_array = na.array([1, 2, 3, 4, 5],dtype = \"int16\")\n",
    "int_array.dtype"
   ]
  },
  {
   "cell_type": "code",
   "execution_count": 68,
   "id": "4803587c",
   "metadata": {},
   "outputs": [
    {
     "data": {
      "text/plain": [
       "dtype('float64')"
      ]
     },
     "execution_count": 68,
     "metadata": {},
     "output_type": "execute_result"
    }
   ],
   "source": [
    "float_array = na.array([0.1, 0.2, 0.3, 0.4, 0.5])\n",
    "float_array.dtype"
   ]
  },
  {
   "cell_type": "code",
   "execution_count": 70,
   "id": "999b283f",
   "metadata": {},
   "outputs": [
    {
     "data": {
      "text/plain": [
       "array([1., 2., 3., 4., 5.], dtype=float32)"
      ]
     },
     "execution_count": 70,
     "metadata": {},
     "output_type": "execute_result"
    }
   ],
   "source": [
    "int_array = na.array([1, 2, 3, 4, 5])\n",
    "int_array.astype(\"float32\")"
   ]
  },
  {
   "cell_type": "code",
   "execution_count": 72,
   "id": "691f6a6c",
   "metadata": {},
   "outputs": [
    {
     "data": {
      "text/plain": [
       "array([0, 0, 0, 0, 0])"
      ]
     },
     "execution_count": 72,
     "metadata": {},
     "output_type": "execute_result"
    }
   ],
   "source": [
    "float_array = na.array([0.1, 0.2, 0.3, 0.4, 0.5])\n",
    "float_array.astype(\"int32\")"
   ]
  },
  {
   "cell_type": "markdown",
   "id": "e95f1c15",
   "metadata": {},
   "source": [
    "### Generating Random Numbers:"
   ]
  },
  {
   "cell_type": "code",
   "execution_count": 74,
   "id": "9f646463",
   "metadata": {},
   "outputs": [
    {
     "data": {
      "text/plain": [
       "array([23, 48, 72, 56, 20, 25, 10, 52, 73, 84])"
      ]
     },
     "execution_count": 74,
     "metadata": {},
     "output_type": "execute_result"
    }
   ],
   "source": [
    "rand_integers = na.random.randint(0,100,10)\n",
    "rand_integers"
   ]
  },
  {
   "cell_type": "code",
   "execution_count": 77,
   "id": "8377bdb5",
   "metadata": {},
   "outputs": [
    {
     "data": {
      "text/plain": [
       "array([ 0.51771226,  0.82536512,  0.79501086, -0.29408402, -0.94710724])"
      ]
     },
     "execution_count": 77,
     "metadata": {},
     "output_type": "execute_result"
    }
   ],
   "source": [
    "rand_uniform = na.random.uniform(-1,1,5)\n",
    "rand_uniform"
   ]
  },
  {
   "cell_type": "code",
   "execution_count": 81,
   "id": "fb17e2e3",
   "metadata": {},
   "outputs": [
    {
     "data": {
      "text/plain": [
       "array([61, 97, 50, 76, 72, 55, 61, 62, 53, 90, 58, 65, 53, 93, 87, 82])"
      ]
     },
     "execution_count": 81,
     "metadata": {},
     "output_type": "execute_result"
    }
   ],
   "source": [
    "rand_matrix = na.random.randint(50,100,16)\n",
    "rand_matrix"
   ]
  },
  {
   "cell_type": "code",
   "execution_count": 82,
   "id": "b17d8b08",
   "metadata": {},
   "outputs": [
    {
     "data": {
      "text/plain": [
       "array([[61, 97, 50, 76],\n",
       "       [72, 55, 61, 62],\n",
       "       [53, 90, 58, 65],\n",
       "       [53, 93, 87, 82]])"
      ]
     },
     "execution_count": 82,
     "metadata": {},
     "output_type": "execute_result"
    }
   ],
   "source": [
    "rand_matrix.reshape(4,4)"
   ]
  },
  {
   "cell_type": "code",
   "execution_count": 83,
   "id": "02932af6",
   "metadata": {},
   "outputs": [
    {
     "data": {
      "text/plain": [
       "69.6875"
      ]
     },
     "execution_count": 83,
     "metadata": {},
     "output_type": "execute_result"
    }
   ],
   "source": [
    "# measure of central tendency\n",
    "rand_matrix.mean() # mean of array"
   ]
  },
  {
   "cell_type": "code",
   "execution_count": 84,
   "id": "385e6af8",
   "metadata": {},
   "outputs": [
    {
     "data": {
      "text/plain": [
       "63.5"
      ]
     },
     "execution_count": 84,
     "metadata": {},
     "output_type": "execute_result"
    }
   ],
   "source": [
    "na.median(rand_matrix) # median"
   ]
  },
  {
   "cell_type": "code",
   "execution_count": 86,
   "id": "cfcbd851",
   "metadata": {},
   "outputs": [
    {
     "data": {
      "text/plain": [
       "47"
      ]
     },
     "execution_count": 86,
     "metadata": {},
     "output_type": "execute_result"
    }
   ],
   "source": [
    "na.max(rand_matrix)\n",
    "na.min(rand_matrix)\n",
    "range = na.max(rand_matrix) - na.min(rand_matrix)\n",
    "range"
   ]
  },
  {
   "cell_type": "code",
   "execution_count": 87,
   "id": "3302235f",
   "metadata": {},
   "outputs": [
    {
     "data": {
      "text/plain": [
       "26.0"
      ]
     },
     "execution_count": 87,
     "metadata": {},
     "output_type": "execute_result"
    }
   ],
   "source": [
    "# to find the outlier we use IQR\n",
    "q1 = na.percentile(rand_matrix,25)\n",
    "q3 = na.percentile(rand_matrix,75)\n",
    "IQR = q3 - q1\n",
    "IQR"
   ]
  },
  {
   "cell_type": "code",
   "execution_count": 88,
   "id": "efcf131a",
   "metadata": {},
   "outputs": [
    {
     "data": {
      "text/plain": [
       "18.25"
      ]
     },
     "execution_count": 88,
     "metadata": {},
     "output_type": "execute_result"
    }
   ],
   "source": [
    "lower = q1 - (1.5*IQR)\n",
    "lower"
   ]
  },
  {
   "cell_type": "code",
   "execution_count": 89,
   "id": "84b3d74e",
   "metadata": {},
   "outputs": [
    {
     "data": {
      "text/plain": [
       "122.25"
      ]
     },
     "execution_count": 89,
     "metadata": {},
     "output_type": "execute_result"
    }
   ],
   "source": [
    "upper = q3 + (1.5*IQR)\n",
    "upper"
   ]
  },
  {
   "cell_type": "code",
   "execution_count": 91,
   "id": "a6937e1d",
   "metadata": {},
   "outputs": [
    {
     "data": {
      "text/plain": [
       "array([], dtype=int32)"
      ]
     },
     "execution_count": 91,
     "metadata": {},
     "output_type": "execute_result"
    }
   ],
   "source": [
    "rand_matrix[rand_matrix>upper]"
   ]
  },
  {
   "cell_type": "code",
   "execution_count": 92,
   "id": "c32865de",
   "metadata": {},
   "outputs": [
    {
     "data": {
      "text/plain": [
       "array([], dtype=int32)"
      ]
     },
     "execution_count": 92,
     "metadata": {},
     "output_type": "execute_result"
    }
   ],
   "source": [
    "rand_matrix[rand_matrix<lower]"
   ]
  },
  {
   "cell_type": "markdown",
   "id": "866fa1ea",
   "metadata": {},
   "source": [
    "### Analyze the Data:"
   ]
  },
  {
   "cell_type": "code",
   "execution_count": 93,
   "id": "d2e87542",
   "metadata": {},
   "outputs": [],
   "source": [
    "Salaries =na.array( [87877, 54494, 54804, 85051, 52453, 31250, 94868, 66349, 39828, 60501, 58570, 74906, 41671, 51428, 56414, 98446, 56819, 82833, 50477, 62898, 99658, 89224, 34225, 79172, 32199, 63795, 90947, 55723, 64557, 3113638])"
   ]
  },
  {
   "cell_type": "code",
   "execution_count": 94,
   "id": "fbeb822b",
   "metadata": {},
   "outputs": [
    {
     "data": {
      "text/plain": [
       "30"
      ]
     },
     "execution_count": 94,
     "metadata": {},
     "output_type": "execute_result"
    }
   ],
   "source": [
    "len(Salaries<50000)"
   ]
  },
  {
   "cell_type": "code",
   "execution_count": 99,
   "id": "e952cd53",
   "metadata": {},
   "outputs": [
    {
     "data": {
      "text/plain": [
       "61699.5"
      ]
     },
     "execution_count": 99,
     "metadata": {},
     "output_type": "execute_result"
    }
   ],
   "source": [
    "na.median(Salaries)"
   ]
  },
  {
   "cell_type": "code",
   "execution_count": 102,
   "id": "60572f97",
   "metadata": {},
   "outputs": [
    {
     "data": {
      "text/plain": [
       "3082388"
      ]
     },
     "execution_count": 102,
     "metadata": {},
     "output_type": "execute_result"
    }
   ],
   "source": [
    "range = Salaries.max() - Salaries.min()\n",
    "range"
   ]
  },
  {
   "cell_type": "code",
   "execution_count": 108,
   "id": "31004ac3",
   "metadata": {},
   "outputs": [
    {
     "data": {
      "text/plain": [
       "52963.25"
      ]
     },
     "execution_count": 108,
     "metadata": {},
     "output_type": "execute_result"
    }
   ],
   "source": [
    "na.percentile(Salaries,25)"
   ]
  },
  {
   "cell_type": "code",
   "execution_count": 109,
   "id": "f85ce4e3",
   "metadata": {},
   "outputs": [
    {
     "data": {
      "text/plain": [
       "84496.5"
      ]
     },
     "execution_count": 109,
     "metadata": {},
     "output_type": "execute_result"
    }
   ],
   "source": [
    "na.percentile(Salaries,75)"
   ]
  },
  {
   "cell_type": "code",
   "execution_count": 123,
   "id": "1416f961",
   "metadata": {},
   "outputs": [
    {
     "data": {
      "text/plain": [
       "array([52453, 31250, 39828, 41671, 51428, 50477, 34225, 32199])"
      ]
     },
     "execution_count": 123,
     "metadata": {},
     "output_type": "execute_result"
    }
   ],
   "source": [
    "arr = Salaries[Salaries<52963.25]\n",
    "arr"
   ]
  },
  {
   "cell_type": "code",
   "execution_count": 124,
   "id": "6ef513a8",
   "metadata": {},
   "outputs": [
    {
     "data": {
      "text/plain": [
       "array([  87877,   85051,   94868,   98446,   99658,   89224,   90947,\n",
       "       3113638])"
      ]
     },
     "execution_count": 124,
     "metadata": {},
     "output_type": "execute_result"
    }
   ],
   "source": [
    "arr2 = Salaries[Salaries>84496.5]\n",
    "arr2"
   ]
  },
  {
   "cell_type": "code",
   "execution_count": 125,
   "id": "0b958141",
   "metadata": {},
   "outputs": [
    {
     "data": {
      "text/plain": [
       "30"
      ]
     },
     "execution_count": 125,
     "metadata": {},
     "output_type": "execute_result"
    }
   ],
   "source": [
    "len(Salaries<52963.25)"
   ]
  },
  {
   "cell_type": "code",
   "execution_count": null,
   "id": "9603182d",
   "metadata": {},
   "outputs": [],
   "source": []
  }
 ],
 "metadata": {
  "kernelspec": {
   "display_name": "Python 3 (ipykernel)",
   "language": "python",
   "name": "python3"
  },
  "language_info": {
   "codemirror_mode": {
    "name": "ipython",
    "version": 3
   },
   "file_extension": ".py",
   "mimetype": "text/x-python",
   "name": "python",
   "nbconvert_exporter": "python",
   "pygments_lexer": "ipython3",
   "version": "3.11.4"
  }
 },
 "nbformat": 4,
 "nbformat_minor": 5
}
