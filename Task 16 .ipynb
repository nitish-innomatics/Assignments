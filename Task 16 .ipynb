{
 "cells": [
  {
   "cell_type": "raw",
   "id": "fc22580c",
   "metadata": {},
   "source": [
    "Task 1:\n",
    "\n",
    "Load the file 'about_python.txt'into your jupyter notebook. a. Correct wrong statements about python fatures b. How many charactaers present in the data c. How many times 'Python' word is repeated. d. after correcting all ..print complete valid features of the python.\n",
    "Task2:\n",
    "\n",
    "Create a file 'File.txt'which expalains python file handling whatever you have learnt today(creating,reading,wring and appending...etc) in detail.That"
   ]
  },
  {
   "cell_type": "markdown",
   "id": "f64bce38",
   "metadata": {},
   "source": [
    "## Task 1"
   ]
  },
  {
   "cell_type": "code",
   "execution_count": 2,
   "id": "f449ddc4",
   "metadata": {},
   "outputs": [
    {
     "data": {
      "text/plain": [
       "714"
      ]
     },
     "execution_count": 2,
     "metadata": {},
     "output_type": "execute_result"
    }
   ],
   "source": [
    "file= open(\"data1.txt\",'x')\n",
    "file.write(\"Python is an interpreted, object-oriented, high-level programming language with dynamic semantics. Its high-level built in data structures, combined with dynamic typing and dynamic binding, make it very attractive for Rapid Application Development, as well as for use as a scripting or glue language to connect existing components together. Python's simple, easy to learn syntax emphasizes readability and therefore reduces the cost of program maintenance. Python supports modules and packages, which encourages program modularity and code reuse. The Python interpreter and the extensive standard library are available in source or binary form without charge for all major platforms, and can be freely distributed.\")"
   ]
  },
  {
   "cell_type": "code",
   "execution_count": 3,
   "id": "91379f41",
   "metadata": {},
   "outputs": [],
   "source": [
    "file.close()"
   ]
  },
  {
   "cell_type": "code",
   "execution_count": 4,
   "id": "b66f80d7",
   "metadata": {},
   "outputs": [],
   "source": [
    "file= open(\"data1.txt\",'r')"
   ]
  },
  {
   "cell_type": "code",
   "execution_count": 5,
   "id": "aaed46a9",
   "metadata": {},
   "outputs": [],
   "source": [
    "string=file.read()"
   ]
  },
  {
   "cell_type": "code",
   "execution_count": 6,
   "id": "30338562",
   "metadata": {},
   "outputs": [],
   "source": [
    "var1=string.replace(\"compiled\",\"interpreted\")\n",
    "var2=var1.replace(\"paid\",\"free\")\n",
    "var3=var2.replace(\"statically\",\"dynamically\")\n",
    "var4=var3.replace(\"double\",\"single and double\")\n",
    "var5=var4.replace(\"web development\",\"web development,software developmet and web scraping\")\n",
    "var6=var5.replace(\"Elon Musk\",\"Guido Van Rossum\")"
   ]
  },
  {
   "cell_type": "code",
   "execution_count": 7,
   "id": "cbe3a6c7",
   "metadata": {},
   "outputs": [],
   "source": [
    "file.close()"
   ]
  },
  {
   "cell_type": "code",
   "execution_count": 27,
   "id": "6e303d82",
   "metadata": {},
   "outputs": [
    {
     "name": "stdout",
     "output_type": "stream",
     "text": [
      "4\n"
     ]
    }
   ],
   "source": [
    "print(string.count(\"Python\"))"
   ]
  },
  {
   "cell_type": "code",
   "execution_count": 28,
   "id": "95f91a69",
   "metadata": {},
   "outputs": [
    {
     "name": "stdout",
     "output_type": "stream",
     "text": [
      "Python is an interpreted, object-oriented, high-level programming language with dynamic semantics. Its high-level built in data structures, combined with dynamic typing and dynamic binding, make it very attractive for Rapid Application Development, as well as for use as a scripting or glue language to connect existing components together. Python's simple, easy to learn syntax emphasizes readability and therefore reduces the cost of program maintenance. Python supports modules and packages, which encourages program modularity and code reuse. The Python interpreter and the extensive standard library are available in source or binary form without charge for all major platforms, and can be freely distributed.\n"
     ]
    }
   ],
   "source": [
    "print(string)"
   ]
  },
  {
   "cell_type": "markdown",
   "id": "6c8f6fbf",
   "metadata": {},
   "source": [
    "## Task 2"
   ]
  },
  {
   "cell_type": "code",
   "execution_count": 21,
   "id": "31cb3347",
   "metadata": {},
   "outputs": [],
   "source": [
    "file= open(\"nitish9.txt\",'x')"
   ]
  },
  {
   "cell_type": "code",
   "execution_count": 22,
   "id": "4418f53f",
   "metadata": {},
   "outputs": [
    {
     "data": {
      "text/plain": [
       "449"
      ]
     },
     "execution_count": 22,
     "metadata": {},
     "output_type": "execute_result"
    }
   ],
   "source": [
    "file.write(\"\"\"file handling:\\nThe file is of four modes:\\n1) Readmode\\n2) Write mode\\n3) Appending mode\\n4) Create mode\\nThe read mode is the file only is read the file and don't accpet the write mode\\nThe write mode is to add the new linesand if any already present it will be replaced\\nIn file handling to start  \"the open the file\" and the \"close the file\" are very important\\nappending is the to add the same line in the file with out the removing the old information\"\"\")"
   ]
  },
  {
   "cell_type": "code",
   "execution_count": 23,
   "id": "9ff9a9c6",
   "metadata": {},
   "outputs": [],
   "source": [
    "file.close()"
   ]
  },
  {
   "cell_type": "code",
   "execution_count": 24,
   "id": "d7c92020",
   "metadata": {},
   "outputs": [
    {
     "name": "stdout",
     "output_type": "stream",
     "text": [
      "file handling:\n",
      "The file is of four modes:\n",
      "1) Readmode\n",
      "2) Writte mode\n",
      "3) Appending mode\n",
      "4) Create mode\n",
      "The read mode is the file only is read the file and don't accpet the write mode\n",
      "The write mode is to add the new linesand if any already present it will be replaced\n",
      "In file handling to start  \"the open the file\" and the \"close the file\" are very important\n",
      "appending is the to add the same line in the file with out the removing the old information\n"
     ]
    }
   ],
   "source": [
    "f = open(\"nitish9.txt\",'r')          \n",
    "print(f.read())"
   ]
  },
  {
   "cell_type": "code",
   "execution_count": null,
   "id": "5501f751",
   "metadata": {},
   "outputs": [],
   "source": []
  }
 ],
 "metadata": {
  "kernelspec": {
   "display_name": "Python 3 (ipykernel)",
   "language": "python",
   "name": "python3"
  },
  "language_info": {
   "codemirror_mode": {
    "name": "ipython",
    "version": 3
   },
   "file_extension": ".py",
   "mimetype": "text/x-python",
   "name": "python",
   "nbconvert_exporter": "python",
   "pygments_lexer": "ipython3",
   "version": "3.11.4"
  }
 },
 "nbformat": 4,
 "nbformat_minor": 5
}
