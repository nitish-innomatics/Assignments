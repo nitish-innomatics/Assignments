{
 "cells": [
  {
   "cell_type": "markdown",
   "id": "5d5ff628",
   "metadata": {},
   "source": [
    "# pandas Series\n",
    "1. Create pandas series with different `data types` in `different ways`\n",
    "2. Find the `attributes` of Series of [10,30,40,1,3,6,14,18,23] with index starts from `100`\n",
    "3. create salaries of `30 employee salaries randomly from 30000-90000` then `measure and describe` the data using pandas series.\n",
    "4. What are the `similaraties` and `differences` between pandas series and nnumpy array.Prove it with code.\n",
    "5. create pandas series with ranges from 100 to 150 then apply indexing and slicing on it."
   ]
  },
  {
   "cell_type": "markdown",
   "id": "933998db",
   "metadata": {},
   "source": [
    "### creating pandas series"
   ]
  },
  {
   "cell_type": "code",
   "execution_count": 1,
   "id": "5bb69199",
   "metadata": {},
   "outputs": [
    {
     "data": {
      "text/plain": [
       "[10, 19, 28, 37, 46, 55, 64, 73, 82]"
      ]
     },
     "execution_count": 1,
     "metadata": {},
     "output_type": "execute_result"
    }
   ],
   "source": [
    "# from list\n",
    "a = list(range(10,90,9))\n",
    "a"
   ]
  },
  {
   "cell_type": "code",
   "execution_count": 37,
   "id": "e9d66c4e",
   "metadata": {},
   "outputs": [],
   "source": [
    "import pandas as pd\n",
    "import numpy as na"
   ]
  },
  {
   "cell_type": "code",
   "execution_count": 7,
   "id": "d2c3ab16",
   "metadata": {},
   "outputs": [
    {
     "data": {
      "text/plain": [
       "0    10\n",
       "1    19\n",
       "2    28\n",
       "3    37\n",
       "4    46\n",
       "5    55\n",
       "6    64\n",
       "7    73\n",
       "8    82\n",
       "dtype: int64"
      ]
     },
     "execution_count": 7,
     "metadata": {},
     "output_type": "execute_result"
    }
   ],
   "source": [
    "a = pd.Series(a)\n",
    "a"
   ]
  },
  {
   "cell_type": "code",
   "execution_count": 8,
   "id": "2111604c",
   "metadata": {},
   "outputs": [
    {
     "data": {
      "text/plain": [
       "0    1\n",
       "1    2\n",
       "2    3\n",
       "3    4\n",
       "4    5\n",
       "5    6\n",
       "6    7\n",
       "7    8\n",
       "8    9\n",
       "dtype: int64"
      ]
     },
     "execution_count": 8,
     "metadata": {},
     "output_type": "execute_result"
    }
   ],
   "source": [
    "#from tuple\n",
    "b = (1,2,3,4,5,6,7,8,9)\n",
    "pd.Series(b)"
   ]
  },
  {
   "cell_type": "code",
   "execution_count": 9,
   "id": "0dbe37ed",
   "metadata": {},
   "outputs": [],
   "source": [
    "#from array\n",
    "arr = na.random.randint(89,98,9)"
   ]
  },
  {
   "cell_type": "code",
   "execution_count": 12,
   "id": "b4ac92fe",
   "metadata": {},
   "outputs": [
    {
     "data": {
      "text/plain": [
       "array([96, 97, 96, 90, 92, 91, 94, 97, 91])"
      ]
     },
     "execution_count": 12,
     "metadata": {},
     "output_type": "execute_result"
    }
   ],
   "source": [
    "arr"
   ]
  },
  {
   "cell_type": "code",
   "execution_count": 11,
   "id": "479dce14",
   "metadata": {},
   "outputs": [
    {
     "data": {
      "text/plain": [
       "0    96\n",
       "1    97\n",
       "2    96\n",
       "3    90\n",
       "4    92\n",
       "5    91\n",
       "6    94\n",
       "7    97\n",
       "8    91\n",
       "dtype: int32"
      ]
     },
     "execution_count": 11,
     "metadata": {},
     "output_type": "execute_result"
    }
   ],
   "source": [
    "pd.Series(arr)"
   ]
  },
  {
   "cell_type": "code",
   "execution_count": 13,
   "id": "750f02c0",
   "metadata": {},
   "outputs": [],
   "source": [
    "# from dictionary\n",
    "dict1 = {\"A\":'AISH',\"B\":'ANK',\"C\":'VAMSHI'}"
   ]
  },
  {
   "cell_type": "code",
   "execution_count": 14,
   "id": "da578800",
   "metadata": {},
   "outputs": [
    {
     "data": {
      "text/plain": [
       "A      AISH\n",
       "B       ANK\n",
       "C    VAMSHI\n",
       "dtype: object"
      ]
     },
     "execution_count": 14,
     "metadata": {},
     "output_type": "execute_result"
    }
   ],
   "source": [
    "pd.Series(dict1)"
   ]
  },
  {
   "cell_type": "code",
   "execution_count": 18,
   "id": "73c02fde",
   "metadata": {},
   "outputs": [],
   "source": [
    "arr = na.array([10,30,40,1,3,6,14,18,23])"
   ]
  },
  {
   "cell_type": "code",
   "execution_count": 23,
   "id": "c2646ab4",
   "metadata": {},
   "outputs": [
    {
     "data": {
      "text/plain": [
       "100    10\n",
       "101    30\n",
       "102    40\n",
       "103     1\n",
       "104     3\n",
       "105     6\n",
       "106    14\n",
       "107    18\n",
       "108    23\n",
       "dtype: int32"
      ]
     },
     "execution_count": 23,
     "metadata": {},
     "output_type": "execute_result"
    }
   ],
   "source": [
    "na = pd.Series((arr),index = list(range(100,109)))\n",
    "na"
   ]
  },
  {
   "cell_type": "markdown",
   "id": "5e600def",
   "metadata": {},
   "source": [
    "### Attributes"
   ]
  },
  {
   "cell_type": "code",
   "execution_count": 24,
   "id": "da47ba9f",
   "metadata": {},
   "outputs": [
    {
     "name": "stdout",
     "output_type": "stream",
     "text": [
      "<class 'pandas.core.series.Series'>\n",
      "Index: 9 entries, 100 to 108\n",
      "Series name: None\n",
      "Non-Null Count  Dtype\n",
      "--------------  -----\n",
      "9 non-null      int32\n",
      "dtypes: int32(1)\n",
      "memory usage: 108.0 bytes\n"
     ]
    }
   ],
   "source": [
    "na.info()"
   ]
  },
  {
   "cell_type": "code",
   "execution_count": 26,
   "id": "0ceb9d27",
   "metadata": {},
   "outputs": [
    {
     "data": {
      "text/plain": [
       "count     9.000000\n",
       "mean     16.111111\n",
       "std      13.033078\n",
       "min       1.000000\n",
       "25%       6.000000\n",
       "50%      14.000000\n",
       "75%      23.000000\n",
       "max      40.000000\n",
       "dtype: float64"
      ]
     },
     "execution_count": 26,
     "metadata": {},
     "output_type": "execute_result"
    }
   ],
   "source": [
    "na.describe()"
   ]
  },
  {
   "cell_type": "code",
   "execution_count": 27,
   "id": "27d24277",
   "metadata": {},
   "outputs": [
    {
     "data": {
      "text/plain": [
       "100    10\n",
       "101    30\n",
       "102    40\n",
       "103     1\n",
       "104     3\n",
       "dtype: int32"
      ]
     },
     "execution_count": 27,
     "metadata": {},
     "output_type": "execute_result"
    }
   ],
   "source": [
    "na.head()"
   ]
  },
  {
   "cell_type": "code",
   "execution_count": 28,
   "id": "4f6461c7",
   "metadata": {},
   "outputs": [
    {
     "data": {
      "text/plain": [
       "104     3\n",
       "105     6\n",
       "106    14\n",
       "107    18\n",
       "108    23\n",
       "dtype: int32"
      ]
     },
     "execution_count": 28,
     "metadata": {},
     "output_type": "execute_result"
    }
   ],
   "source": [
    "na.tail()"
   ]
  },
  {
   "cell_type": "code",
   "execution_count": 30,
   "id": "95760c54",
   "metadata": {},
   "outputs": [
    {
     "data": {
      "text/plain": [
       "dtype('int32')"
      ]
     },
     "execution_count": 30,
     "metadata": {},
     "output_type": "execute_result"
    }
   ],
   "source": [
    "na.dtype"
   ]
  },
  {
   "cell_type": "code",
   "execution_count": 31,
   "id": "b01f93bf",
   "metadata": {},
   "outputs": [
    {
     "data": {
      "text/plain": [
       "108"
      ]
     },
     "execution_count": 31,
     "metadata": {},
     "output_type": "execute_result"
    }
   ],
   "source": [
    "na.memory_usage()"
   ]
  },
  {
   "cell_type": "code",
   "execution_count": 32,
   "id": "9c521cd1",
   "metadata": {},
   "outputs": [
    {
     "data": {
      "text/plain": [
       "100    NaN\n",
       "101    NaN\n",
       "102    NaN\n",
       "103    1.0\n",
       "104    3.0\n",
       "105    6.0\n",
       "106    NaN\n",
       "107    NaN\n",
       "108    NaN\n",
       "dtype: float64"
      ]
     },
     "execution_count": 32,
     "metadata": {},
     "output_type": "execute_result"
    }
   ],
   "source": [
    "na.where(na<9)"
   ]
  },
  {
   "cell_type": "code",
   "execution_count": 33,
   "id": "21e1cd0d",
   "metadata": {},
   "outputs": [
    {
     "data": {
      "text/plain": [
       "1"
      ]
     },
     "execution_count": 33,
     "metadata": {},
     "output_type": "execute_result"
    }
   ],
   "source": [
    "na.ndim"
   ]
  },
  {
   "cell_type": "code",
   "execution_count": 34,
   "id": "e9884cf0",
   "metadata": {},
   "outputs": [
    {
     "data": {
      "text/plain": [
       "9"
      ]
     },
     "execution_count": 34,
     "metadata": {},
     "output_type": "execute_result"
    }
   ],
   "source": [
    "na.size"
   ]
  },
  {
   "cell_type": "code",
   "execution_count": 40,
   "id": "a9652dcb",
   "metadata": {},
   "outputs": [
    {
     "data": {
      "text/plain": [
       "0     70992\n",
       "1     51684\n",
       "2     33689\n",
       "3     53121\n",
       "4     77480\n",
       "5     64671\n",
       "6     85666\n",
       "7     67369\n",
       "8     76384\n",
       "9     46914\n",
       "10    68939\n",
       "11    57028\n",
       "12    79805\n",
       "13    72168\n",
       "14    73533\n",
       "15    66019\n",
       "16    61307\n",
       "17    89989\n",
       "18    64492\n",
       "19    81017\n",
       "20    78787\n",
       "21    39890\n",
       "22    83428\n",
       "23    73259\n",
       "24    61772\n",
       "25    50962\n",
       "26    37027\n",
       "27    45801\n",
       "28    83102\n",
       "29    85584\n",
       "dtype: int32"
      ]
     },
     "execution_count": 40,
     "metadata": {},
     "output_type": "execute_result"
    }
   ],
   "source": [
    "arr = na.random.randint(30000,90000,30)\n",
    "a = pd.Series(arr)\n",
    "a\n"
   ]
  },
  {
   "cell_type": "markdown",
   "id": "ca90584a",
   "metadata": {},
   "source": [
    "### measure and describe"
   ]
  },
  {
   "cell_type": "code",
   "execution_count": 41,
   "id": "0ff09dff",
   "metadata": {},
   "outputs": [
    {
     "data": {
      "text/plain": [
       "66062.63333333333"
      ]
     },
     "execution_count": 41,
     "metadata": {},
     "output_type": "execute_result"
    }
   ],
   "source": [
    "a.mean()"
   ]
  },
  {
   "cell_type": "code",
   "execution_count": 42,
   "id": "d9e95a3a",
   "metadata": {},
   "outputs": [
    {
     "data": {
      "text/plain": [
       "68154.0"
      ]
     },
     "execution_count": 42,
     "metadata": {},
     "output_type": "execute_result"
    }
   ],
   "source": [
    "a.median()"
   ]
  },
  {
   "cell_type": "code",
   "execution_count": 43,
   "id": "77304e06",
   "metadata": {},
   "outputs": [
    {
     "data": {
      "text/plain": [
       "0     33689\n",
       "1     37027\n",
       "2     39890\n",
       "3     45801\n",
       "4     46914\n",
       "5     50962\n",
       "6     51684\n",
       "7     53121\n",
       "8     57028\n",
       "9     61307\n",
       "10    61772\n",
       "11    64492\n",
       "12    64671\n",
       "13    66019\n",
       "14    67369\n",
       "15    68939\n",
       "16    70992\n",
       "17    72168\n",
       "18    73259\n",
       "19    73533\n",
       "20    76384\n",
       "21    77480\n",
       "22    78787\n",
       "23    79805\n",
       "24    81017\n",
       "25    83102\n",
       "26    83428\n",
       "27    85584\n",
       "28    85666\n",
       "29    89989\n",
       "dtype: int32"
      ]
     },
     "execution_count": 43,
     "metadata": {},
     "output_type": "execute_result"
    }
   ],
   "source": [
    "a.mode()"
   ]
  },
  {
   "cell_type": "code",
   "execution_count": 45,
   "id": "6a4a80c0",
   "metadata": {},
   "outputs": [
    {
     "data": {
      "text/plain": [
       "33689"
      ]
     },
     "execution_count": 45,
     "metadata": {},
     "output_type": "execute_result"
    }
   ],
   "source": [
    "a.min()"
   ]
  },
  {
   "cell_type": "code",
   "execution_count": 46,
   "id": "ce4ef551",
   "metadata": {},
   "outputs": [
    {
     "data": {
      "text/plain": [
       "89989"
      ]
     },
     "execution_count": 46,
     "metadata": {},
     "output_type": "execute_result"
    }
   ],
   "source": [
    "a.max()"
   ]
  },
  {
   "cell_type": "code",
   "execution_count": 47,
   "id": "bd0cd8e8",
   "metadata": {},
   "outputs": [
    {
     "data": {
      "text/plain": [
       "56300"
      ]
     },
     "execution_count": 47,
     "metadata": {},
     "output_type": "execute_result"
    }
   ],
   "source": [
    "range = a.max()-a.min()\n",
    "range"
   ]
  },
  {
   "cell_type": "code",
   "execution_count": 48,
   "id": "ab942310",
   "metadata": {},
   "outputs": [
    {
     "data": {
      "text/plain": [
       "241476540.791954"
      ]
     },
     "execution_count": 48,
     "metadata": {},
     "output_type": "execute_result"
    }
   ],
   "source": [
    "a.var()"
   ]
  },
  {
   "cell_type": "code",
   "execution_count": 49,
   "id": "c6ce24a5",
   "metadata": {},
   "outputs": [
    {
     "data": {
      "text/plain": [
       "15539.515461942628"
      ]
     },
     "execution_count": 49,
     "metadata": {},
     "output_type": "execute_result"
    }
   ],
   "source": [
    "a.std()"
   ]
  },
  {
   "cell_type": "code",
   "execution_count": 50,
   "id": "9248ab34",
   "metadata": {},
   "outputs": [
    {
     "data": {
      "text/plain": [
       "54097.75"
      ]
     },
     "execution_count": 50,
     "metadata": {},
     "output_type": "execute_result"
    }
   ],
   "source": [
    "a.quantile(0.25)"
   ]
  },
  {
   "cell_type": "code",
   "execution_count": 51,
   "id": "37602d6a",
   "metadata": {},
   "outputs": [
    {
     "data": {
      "text/plain": [
       "78460.25"
      ]
     },
     "execution_count": 51,
     "metadata": {},
     "output_type": "execute_result"
    }
   ],
   "source": [
    "a.quantile(0.75)"
   ]
  },
  {
   "cell_type": "code",
   "execution_count": 52,
   "id": "5e0ca132",
   "metadata": {},
   "outputs": [
    {
     "data": {
      "text/plain": [
       "24362.5"
      ]
     },
     "execution_count": 52,
     "metadata": {},
     "output_type": "execute_result"
    }
   ],
   "source": [
    "IQR = a.quantile(0.75) - a.quantile(0.25)\n",
    "IQR"
   ]
  },
  {
   "cell_type": "markdown",
   "id": "1ae39f06",
   "metadata": {},
   "source": [
    "### similarites numpy and series-pandas"
   ]
  },
  {
   "cell_type": "code",
   "execution_count": 58,
   "id": "4dbf3c49",
   "metadata": {},
   "outputs": [
    {
     "data": {
      "text/plain": [
       "array([1, 2, 3, 4, 5, 6, 7, 8, 9])"
      ]
     },
     "execution_count": 58,
     "metadata": {},
     "output_type": "execute_result"
    }
   ],
   "source": [
    "# both provide 1-D array and numerical values\n",
    "numpy_arr = na.array([1,2,3,4,5,6,7,8,9])\n",
    "numpy_arr"
   ]
  },
  {
   "cell_type": "code",
   "execution_count": 59,
   "id": "7f82376f",
   "metadata": {},
   "outputs": [
    {
     "data": {
      "text/plain": [
       "1"
      ]
     },
     "execution_count": 59,
     "metadata": {},
     "output_type": "execute_result"
    }
   ],
   "source": [
    "numpy_arr.ndim"
   ]
  },
  {
   "cell_type": "code",
   "execution_count": 60,
   "id": "f291342f",
   "metadata": {},
   "outputs": [],
   "source": [
    "pandas = pd.Series(numpy_arr)"
   ]
  },
  {
   "cell_type": "code",
   "execution_count": 61,
   "id": "638c6331",
   "metadata": {},
   "outputs": [
    {
     "data": {
      "text/plain": [
       "0    1\n",
       "1    2\n",
       "2    3\n",
       "3    4\n",
       "4    5\n",
       "5    6\n",
       "6    7\n",
       "7    8\n",
       "8    9\n",
       "dtype: int32"
      ]
     },
     "execution_count": 61,
     "metadata": {},
     "output_type": "execute_result"
    }
   ],
   "source": [
    "pandas"
   ]
  },
  {
   "cell_type": "code",
   "execution_count": 62,
   "id": "012a8a67",
   "metadata": {},
   "outputs": [
    {
     "data": {
      "text/plain": [
       "1"
      ]
     },
     "execution_count": 62,
     "metadata": {},
     "output_type": "execute_result"
    }
   ],
   "source": [
    "pandas.ndim"
   ]
  },
  {
   "cell_type": "markdown",
   "id": "5d629623",
   "metadata": {},
   "source": [
    "### Differences"
   ]
  },
  {
   "cell_type": "code",
   "execution_count": 63,
   "id": "527024c5",
   "metadata": {},
   "outputs": [],
   "source": [
    "# numpy cannot deal with text data where as pandas series can\n",
    "# pandas is index based library where as numpy is not index based\n",
    "numpy_arr1 = na.array(['A','ish','A','NK'])"
   ]
  },
  {
   "cell_type": "code",
   "execution_count": 64,
   "id": "60d3217b",
   "metadata": {},
   "outputs": [
    {
     "data": {
      "text/plain": [
       "array(['A', 'ish', 'A', 'NK'], dtype='<U3')"
      ]
     },
     "execution_count": 64,
     "metadata": {},
     "output_type": "execute_result"
    }
   ],
   "source": [
    "numpy_arr1"
   ]
  },
  {
   "cell_type": "code",
   "execution_count": 70,
   "id": "511bedc1",
   "metadata": {},
   "outputs": [
    {
     "data": {
      "text/plain": [
       "dtype('<U3')"
      ]
     },
     "execution_count": 70,
     "metadata": {},
     "output_type": "execute_result"
    }
   ],
   "source": [
    "numpy_arr1.dtype"
   ]
  },
  {
   "cell_type": "code",
   "execution_count": 71,
   "id": "6293b097",
   "metadata": {},
   "outputs": [
    {
     "data": {
      "text/plain": [
       "0      A\n",
       "1    ish\n",
       "2      A\n",
       "3     NK\n",
       "dtype: object"
      ]
     },
     "execution_count": 71,
     "metadata": {},
     "output_type": "execute_result"
    }
   ],
   "source": [
    "pandas = pd.Series(numpy_arr1)\n",
    "pandas"
   ]
  },
  {
   "cell_type": "code",
   "execution_count": 72,
   "id": "c1f5de54",
   "metadata": {},
   "outputs": [
    {
     "data": {
      "text/plain": [
       "dtype('O')"
      ]
     },
     "execution_count": 72,
     "metadata": {},
     "output_type": "execute_result"
    }
   ],
   "source": [
    "pandas.dtype"
   ]
  },
  {
   "cell_type": "code",
   "execution_count": 87,
   "id": "3c283975",
   "metadata": {},
   "outputs": [],
   "source": [
    "a = na.arange(100,151)"
   ]
  },
  {
   "cell_type": "code",
   "execution_count": 88,
   "id": "ed490290",
   "metadata": {},
   "outputs": [
    {
     "data": {
      "text/plain": [
       "array([100, 101, 102, 103, 104, 105, 106, 107, 108, 109, 110, 111, 112,\n",
       "       113, 114, 115, 116, 117, 118, 119, 120, 121, 122, 123, 124, 125,\n",
       "       126, 127, 128, 129, 130, 131, 132, 133, 134, 135, 136, 137, 138,\n",
       "       139, 140, 141, 142, 143, 144, 145, 146, 147, 148, 149, 150])"
      ]
     },
     "execution_count": 88,
     "metadata": {},
     "output_type": "execute_result"
    }
   ],
   "source": [
    "a"
   ]
  },
  {
   "cell_type": "code",
   "execution_count": 89,
   "id": "b9d3ada3",
   "metadata": {},
   "outputs": [],
   "source": [
    "a = pd.Series(a)"
   ]
  },
  {
   "cell_type": "code",
   "execution_count": 90,
   "id": "83f96bee",
   "metadata": {},
   "outputs": [
    {
     "data": {
      "text/plain": [
       "0     100\n",
       "1     101\n",
       "2     102\n",
       "3     103\n",
       "4     104\n",
       "5     105\n",
       "6     106\n",
       "7     107\n",
       "8     108\n",
       "9     109\n",
       "10    110\n",
       "11    111\n",
       "12    112\n",
       "13    113\n",
       "14    114\n",
       "15    115\n",
       "16    116\n",
       "17    117\n",
       "18    118\n",
       "19    119\n",
       "20    120\n",
       "21    121\n",
       "22    122\n",
       "23    123\n",
       "24    124\n",
       "25    125\n",
       "26    126\n",
       "27    127\n",
       "28    128\n",
       "29    129\n",
       "30    130\n",
       "31    131\n",
       "32    132\n",
       "33    133\n",
       "34    134\n",
       "35    135\n",
       "36    136\n",
       "37    137\n",
       "38    138\n",
       "39    139\n",
       "40    140\n",
       "41    141\n",
       "42    142\n",
       "43    143\n",
       "44    144\n",
       "45    145\n",
       "46    146\n",
       "47    147\n",
       "48    148\n",
       "49    149\n",
       "50    150\n",
       "dtype: int32"
      ]
     },
     "execution_count": 90,
     "metadata": {},
     "output_type": "execute_result"
    }
   ],
   "source": [
    "a"
   ]
  },
  {
   "cell_type": "markdown",
   "id": "f4af56fd",
   "metadata": {},
   "source": [
    "### indexing and slicing"
   ]
  },
  {
   "cell_type": "code",
   "execution_count": 91,
   "id": "ba087fb7",
   "metadata": {},
   "outputs": [
    {
     "data": {
      "text/plain": [
       "100"
      ]
     },
     "execution_count": 91,
     "metadata": {},
     "output_type": "execute_result"
    }
   ],
   "source": [
    "a[0]"
   ]
  },
  {
   "cell_type": "code",
   "execution_count": 92,
   "id": "3ea504b9",
   "metadata": {},
   "outputs": [
    {
     "data": {
      "text/plain": [
       "1    101\n",
       "2    102\n",
       "dtype: int32"
      ]
     },
     "execution_count": 92,
     "metadata": {},
     "output_type": "execute_result"
    }
   ],
   "source": [
    "a[1:3]"
   ]
  },
  {
   "cell_type": "code",
   "execution_count": 93,
   "id": "26dbb92e",
   "metadata": {},
   "outputs": [
    {
     "data": {
      "text/plain": [
       "50    150\n",
       "49    149\n",
       "48    148\n",
       "47    147\n",
       "46    146\n",
       "45    145\n",
       "44    144\n",
       "43    143\n",
       "42    142\n",
       "41    141\n",
       "40    140\n",
       "39    139\n",
       "38    138\n",
       "37    137\n",
       "36    136\n",
       "35    135\n",
       "34    134\n",
       "33    133\n",
       "32    132\n",
       "31    131\n",
       "30    130\n",
       "29    129\n",
       "28    128\n",
       "27    127\n",
       "26    126\n",
       "25    125\n",
       "24    124\n",
       "23    123\n",
       "22    122\n",
       "21    121\n",
       "20    120\n",
       "19    119\n",
       "18    118\n",
       "17    117\n",
       "16    116\n",
       "15    115\n",
       "14    114\n",
       "13    113\n",
       "12    112\n",
       "11    111\n",
       "10    110\n",
       "9     109\n",
       "8     108\n",
       "7     107\n",
       "6     106\n",
       "5     105\n",
       "4     104\n",
       "3     103\n",
       "2     102\n",
       "1     101\n",
       "0     100\n",
       "dtype: int32"
      ]
     },
     "execution_count": 93,
     "metadata": {},
     "output_type": "execute_result"
    }
   ],
   "source": [
    "a[50::-1]"
   ]
  },
  {
   "cell_type": "code",
   "execution_count": 97,
   "id": "fca01f3b",
   "metadata": {},
   "outputs": [
    {
     "data": {
      "text/plain": [
       "40    140\n",
       "38    138\n",
       "36    136\n",
       "34    134\n",
       "32    132\n",
       "30    130\n",
       "28    128\n",
       "26    126\n",
       "24    124\n",
       "22    122\n",
       "dtype: int32"
      ]
     },
     "execution_count": 97,
     "metadata": {},
     "output_type": "execute_result"
    }
   ],
   "source": [
    "a[40:20:-2]"
   ]
  },
  {
   "cell_type": "code",
   "execution_count": null,
   "id": "eb258cc5",
   "metadata": {},
   "outputs": [],
   "source": []
  }
 ],
 "metadata": {
  "kernelspec": {
   "display_name": "Python 3 (ipykernel)",
   "language": "python",
   "name": "python3"
  },
  "language_info": {
   "codemirror_mode": {
    "name": "ipython",
    "version": 3
   },
   "file_extension": ".py",
   "mimetype": "text/x-python",
   "name": "python",
   "nbconvert_exporter": "python",
   "pygments_lexer": "ipython3",
   "version": "3.11.4"
  }
 },
 "nbformat": 4,
 "nbformat_minor": 5
}
