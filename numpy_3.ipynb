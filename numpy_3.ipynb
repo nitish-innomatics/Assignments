{
 "cells": [
  {
   "cell_type": "markdown",
   "id": "cc8d4d50",
   "metadata": {},
   "source": [
    "### Data Cleaning using numpy"
   ]
  },
  {
   "cell_type": "markdown",
   "id": "a9f62f05",
   "metadata": {},
   "source": [
    "**The following are the student marks of a class**\n",
    "[44,24,np.nan,59,32,96,188,52,62,58,52,120,np.nan,np.nan,3,56,81,59,,122,92,np.nan,87,96,97,1,19,2,53, 44]\n",
    "\n"
   ]
  },
  {
   "cell_type": "markdown",
   "id": "69b2a360",
   "metadata": {},
   "source": [
    "1. Find the no of outliers and missing values?\n",
    "2. replace the outliers with 45 and missing value with 87.\n",
    "3. what is the average marks of students after 2nd step?\n",
    "4. How many students got less than 60 marks?\n",
    "5. what is the maximum marks?\n",
    "6. Convert the marks to float32."
   ]
  },
  {
   "cell_type": "markdown",
   "id": "3692b4ec",
   "metadata": {},
   "source": [
    "### Solving Linear Equations"
   ]
  },
  {
   "cell_type": "markdown",
   "id": "b5172cfe",
   "metadata": {},
   "source": [
    "\n",
    "    \n",
    "1. 2x + 3y - z = 10\n",
    "\n",
    "    x - y + 2z = 5\n",
    "    \n",
    "    3x + 2y + z = 12\n",
    "    \n",
    "    \n",
    "    \n",
    "2. 2x + y - z + 3w = 8\n",
    "\n",
    "    3x - 2y + 2z + 2w = 1\n",
    "    \n",
    "    x + 3y - 2z + w = 7\n",
    "    \n",
    "    4x - y + z - 2w = 3\n",
    "   \n",
    "   \n",
    "   \n",
    "3. 4x + 2y - 3z = 10\n",
    "\n",
    "    -2x + 3y + z = -3\n",
    "    \n",
    "    x - y + 2z = 4\n",
    "    \n",
    "Solve the system of equations using NumPy's linalg.solve function.\n"
   ]
  },
  {
   "cell_type": "markdown",
   "id": "5bebe166",
   "metadata": {},
   "source": [
    "### Conditional Selection with np.where()"
   ]
  },
  {
   "cell_type": "markdown",
   "id": "036735c5",
   "metadata": {},
   "source": [
    "\n",
    "1.\tGenerate a random 1D array A of 10 integers between 1 and 100.\n",
    "\n",
    "2.\tUse np.where() to find the indices where the elements of A are greater than 50.\n",
    "a\n",
    "3.\tCreate a new array B that contains elements from A where the condition is met.\n",
    "\n",
    "4.\tCalculate the mean of array B and print it along with arrays A and B."
   ]
  },
  {
   "cell_type": "markdown",
   "id": "f935d75b",
   "metadata": {},
   "source": [
    "\n",
    "### Replace Values with np.where()"
   ]
  },
  {
   "cell_type": "markdown",
   "id": "9c5ac3b7",
   "metadata": {},
   "source": [
    "1.\tCreate a 4x4 random integer matrix C with values between -10 and 10.\n",
    "\n",
    "2.\tUse np.where() to replace all negative values in matrix C with 0.\n",
    "\n",
    "3.\tPrint the original matrix C and the modified matrix."
   ]
  },
  {
   "cell_type": "code",
   "execution_count": 1,
   "id": "221417d0",
   "metadata": {},
   "outputs": [],
   "source": [
    "import numpy as na"
   ]
  },
  {
   "cell_type": "markdown",
   "id": "c18fc3c3",
   "metadata": {},
   "source": [
    "### Data Cleaning using numpy"
   ]
  },
  {
   "cell_type": "code",
   "execution_count": 4,
   "id": "13dfb9ba",
   "metadata": {},
   "outputs": [],
   "source": [
    "a = na.array([44,24,na.nan,59,32,96,188,52,62,58,52,120,na.nan,na.nan,3,56,81,59,122,92,na.nan,87,96,97,1,19,2,53, 44])"
   ]
  },
  {
   "cell_type": "code",
   "execution_count": 6,
   "id": "7718dac0",
   "metadata": {},
   "outputs": [
    {
     "data": {
      "text/plain": [
       "4"
      ]
     },
     "execution_count": 6,
     "metadata": {},
     "output_type": "execute_result"
    }
   ],
   "source": [
    "na.sum(na.isnan(a))"
   ]
  },
  {
   "cell_type": "code",
   "execution_count": 12,
   "id": "b491fca1",
   "metadata": {},
   "outputs": [],
   "source": [
    "a = na.where(na.isnan(a),87,a).astype(\"int16\")"
   ]
  },
  {
   "cell_type": "code",
   "execution_count": 13,
   "id": "5590f370",
   "metadata": {},
   "outputs": [
    {
     "data": {
      "text/plain": [
       "array([ 44,  24,  87,  59,  32,  96, 188,  52,  62,  58,  52, 120,  87,\n",
       "        87,   3,  56,  81,  59, 122,  92,  87,  87,  96,  97,   1,  19,\n",
       "         2,  53,  44], dtype=int16)"
      ]
     },
     "execution_count": 13,
     "metadata": {},
     "output_type": "execute_result"
    }
   ],
   "source": [
    "a"
   ]
  },
  {
   "cell_type": "code",
   "execution_count": 19,
   "id": "67b4c671",
   "metadata": {},
   "outputs": [
    {
     "data": {
      "text/plain": [
       "3"
      ]
     },
     "execution_count": 19,
     "metadata": {},
     "output_type": "execute_result"
    }
   ],
   "source": [
    "b = na.sum((a>100) | (a<0))\n",
    "b"
   ]
  },
  {
   "cell_type": "code",
   "execution_count": 20,
   "id": "5c7870ab",
   "metadata": {},
   "outputs": [],
   "source": [
    "c = na.where((a>100) | (a<0),45,a)"
   ]
  },
  {
   "cell_type": "code",
   "execution_count": 21,
   "id": "d4b4710d",
   "metadata": {},
   "outputs": [
    {
     "data": {
      "text/plain": [
       "array([44, 24, 87, 59, 32, 96, 45, 52, 62, 58, 52, 45, 87, 87,  3, 56, 81,\n",
       "       59, 45, 92, 87, 87, 96, 97,  1, 19,  2, 53, 44], dtype=int16)"
      ]
     },
     "execution_count": 21,
     "metadata": {},
     "output_type": "execute_result"
    }
   ],
   "source": [
    "c"
   ]
  },
  {
   "cell_type": "code",
   "execution_count": 23,
   "id": "6b0fb40e",
   "metadata": {},
   "outputs": [
    {
     "data": {
      "text/plain": [
       "56.96551724137931"
      ]
     },
     "execution_count": 23,
     "metadata": {},
     "output_type": "execute_result"
    }
   ],
   "source": [
    "avg = na.mean(c)\n",
    "avg"
   ]
  },
  {
   "cell_type": "code",
   "execution_count": 25,
   "id": "8f1760a2",
   "metadata": {},
   "outputs": [
    {
     "data": {
      "text/plain": [
       "18"
      ]
     },
     "execution_count": 25,
     "metadata": {},
     "output_type": "execute_result"
    }
   ],
   "source": [
    "d = na.sum(c<60)\n",
    "d"
   ]
  },
  {
   "cell_type": "code",
   "execution_count": 29,
   "id": "1e69a77f",
   "metadata": {},
   "outputs": [
    {
     "data": {
      "text/plain": [
       "97"
      ]
     },
     "execution_count": 29,
     "metadata": {},
     "output_type": "execute_result"
    }
   ],
   "source": [
    "e = na.max(c)\n",
    "e"
   ]
  },
  {
   "cell_type": "code",
   "execution_count": 30,
   "id": "e54a3cd8",
   "metadata": {},
   "outputs": [
    {
     "data": {
      "text/plain": [
       "array([44., 24., 87., 59., 32., 96., 45., 52., 62., 58., 52., 45., 87.,\n",
       "       87.,  3., 56., 81., 59., 45., 92., 87., 87., 96., 97.,  1., 19.,\n",
       "        2., 53., 44.], dtype=float32)"
      ]
     },
     "execution_count": 30,
     "metadata": {},
     "output_type": "execute_result"
    }
   ],
   "source": [
    "f = c.astype('float32')\n",
    "f"
   ]
  },
  {
   "cell_type": "markdown",
   "id": "c6c0c7d4",
   "metadata": {},
   "source": [
    "### Solving Linear Equations"
   ]
  },
  {
   "cell_type": "markdown",
   "id": "17b8a5de",
   "metadata": {},
   "source": [
    "    \n",
    "1. 2x + 3y - z = 10\n",
    "\n",
    "    x - y + 2z = 5\n",
    "    \n",
    "    3x + 2y + z = 12"
   ]
  },
  {
   "cell_type": "code",
   "execution_count": 31,
   "id": "db850011",
   "metadata": {},
   "outputs": [],
   "source": [
    "a = na.array([[2,3,-1],[1,-1,2],[3,2,1]])\n",
    "b = na.array([10,5,12])"
   ]
  },
  {
   "cell_type": "code",
   "execution_count": 32,
   "id": "640ba65c",
   "metadata": {},
   "outputs": [
    {
     "data": {
      "text/plain": [
       "array([-6.75539944e+15,  6.75539944e+15,  6.75539944e+15])"
      ]
     },
     "execution_count": 32,
     "metadata": {},
     "output_type": "execute_result"
    }
   ],
   "source": [
    "na.linalg.solve(a,b)"
   ]
  },
  {
   "cell_type": "markdown",
   "id": "9aaa8fa6",
   "metadata": {},
   "source": [
    "2. 2x + y - z + 3w = 8\n",
    "\n",
    "    3x - 2y + 2z + 2w = 1\n",
    "    \n",
    "    x + 3y - 2z + w = 7\n",
    "    \n",
    "    4x - y + z - 2w = 3"
   ]
  },
  {
   "cell_type": "code",
   "execution_count": 33,
   "id": "09e74868",
   "metadata": {},
   "outputs": [
    {
     "data": {
      "text/plain": [
       "array([ 1.73170732, -0.75609756, -3.46341463,  0.6097561 ])"
      ]
     },
     "execution_count": 33,
     "metadata": {},
     "output_type": "execute_result"
    }
   ],
   "source": [
    "a = na.array([[2,1,-1,3],[3,-2,2,2],[1,3,-2,1],[4,-1,1,-2]])\n",
    "b= na.array([8,1,7,3])\n",
    "na.linalg.solve(a,b)"
   ]
  },
  {
   "cell_type": "markdown",
   "id": "d13151b1",
   "metadata": {},
   "source": [
    "   \n",
    "3. 4x + 2y - 3z = 10\n",
    "\n",
    "    -2x + 3y + z = -3\n",
    "    \n",
    "    x - y + 2z = 4"
   ]
  },
  {
   "cell_type": "code",
   "execution_count": 34,
   "id": "85d1d43f",
   "metadata": {},
   "outputs": [
    {
     "data": {
      "text/plain": [
       "array([2.85365854, 0.6097561 , 0.87804878])"
      ]
     },
     "execution_count": 34,
     "metadata": {},
     "output_type": "execute_result"
    }
   ],
   "source": [
    "a = na.array([[4,2,-3],[-2,3,1],[1,-1,2]])\n",
    "b = na.array([10,-3,4])\n",
    "na.linalg.solve(a,b)"
   ]
  },
  {
   "cell_type": "markdown",
   "id": "77ee30c6",
   "metadata": {},
   "source": [
    "### Conditional Selection with np.where()"
   ]
  },
  {
   "cell_type": "code",
   "execution_count": 37,
   "id": "1451fb57",
   "metadata": {},
   "outputs": [
    {
     "data": {
      "text/plain": [
       "array([80, 20, 52, 56,  7, 93, 88, 39, 13, 83])"
      ]
     },
     "execution_count": 37,
     "metadata": {},
     "output_type": "execute_result"
    }
   ],
   "source": [
    "A = na.random.randint(1,100,10)\n",
    "A"
   ]
  },
  {
   "cell_type": "code",
   "execution_count": 59,
   "id": "f1ba5d13",
   "metadata": {},
   "outputs": [
    {
     "data": {
      "text/plain": [
       "array([80, 52, 56, 93, 88, 83])"
      ]
     },
     "execution_count": 59,
     "metadata": {},
     "output_type": "execute_result"
    }
   ],
   "source": [
    "a = na.where(A>50)\n",
    "B = A[a]\n",
    "B"
   ]
  },
  {
   "cell_type": "code",
   "execution_count": 63,
   "id": "6dea7534",
   "metadata": {},
   "outputs": [
    {
     "name": "stdout",
     "output_type": "stream",
     "text": [
      "array A:  [80 20 52 56  7 93 88 39 13 83]\n",
      "array B : [80 52 56 93 88 83]\n",
      "mean of B :  75.33333333333333\n"
     ]
    }
   ],
   "source": [
    "print('array A: ',A)\n",
    "print(\"array B :\",B)\n",
    "print(\"mean of B : \",na.mean(B))"
   ]
  },
  {
   "cell_type": "markdown",
   "id": "2bac0c58",
   "metadata": {},
   "source": [
    "\n",
    "### Replace Values with np.where()"
   ]
  },
  {
   "cell_type": "code",
   "execution_count": 66,
   "id": "b932b643",
   "metadata": {},
   "outputs": [
    {
     "data": {
      "text/plain": [
       "array([[ 3.56882941,  9.5666143 ,  4.13256934,  3.59732815],\n",
       "       [ 3.61084456, -1.79695285, -2.28681469, -8.39184436],\n",
       "       [ 7.99266652, -6.55400735, -3.40874606,  7.6486572 ],\n",
       "       [-1.42972754, -1.76438519,  7.120818  ,  7.38160454]])"
      ]
     },
     "execution_count": 66,
     "metadata": {},
     "output_type": "execute_result"
    }
   ],
   "source": [
    "c = na.random.uniform(-10,10,16)\n",
    "C= c.reshape(4,4)\n",
    "C\n"
   ]
  },
  {
   "cell_type": "code",
   "execution_count": 73,
   "id": "53f89744",
   "metadata": {},
   "outputs": [
    {
     "data": {
      "text/plain": [
       "array([[3.56882941, 9.5666143 , 4.13256934, 3.59732815],\n",
       "       [3.61084456, 0.        , 0.        , 0.        ],\n",
       "       [7.99266652, 0.        , 0.        , 7.6486572 ],\n",
       "       [0.        , 0.        , 7.120818  , 7.38160454]])"
      ]
     },
     "execution_count": 73,
     "metadata": {},
     "output_type": "execute_result"
    }
   ],
   "source": [
    "d = na.where(C<0,0,C)\n",
    "d"
   ]
  },
  {
   "cell_type": "code",
   "execution_count": 76,
   "id": "269bf4aa",
   "metadata": {},
   "outputs": [
    {
     "data": {
      "text/plain": [
       "array([[[ 3.56882941,  9.5666143 ,  4.13256934,  3.59732815],\n",
       "        [ 3.61084456, -1.79695285, -2.28681469, -8.39184436],\n",
       "        [ 7.99266652, -6.55400735, -3.40874606,  7.6486572 ],\n",
       "        [-1.42972754, -1.76438519,  7.120818  ,  7.38160454]],\n",
       "\n",
       "       [[ 3.56882941,  9.5666143 ,  4.13256934,  3.59732815],\n",
       "        [ 3.61084456,  0.        ,  0.        ,  0.        ],\n",
       "        [ 7.99266652,  0.        ,  0.        ,  7.6486572 ],\n",
       "        [ 0.        ,  0.        ,  7.120818  ,  7.38160454]]])"
      ]
     },
     "execution_count": 76,
     "metadata": {},
     "output_type": "execute_result"
    }
   ],
   "source": [
    "na.stack([C,d])"
   ]
  },
  {
   "cell_type": "code",
   "execution_count": null,
   "id": "b30be6ae",
   "metadata": {},
   "outputs": [],
   "source": []
  }
 ],
 "metadata": {
  "kernelspec": {
   "display_name": "Python 3 (ipykernel)",
   "language": "python",
   "name": "python3"
  },
  "language_info": {
   "codemirror_mode": {
    "name": "ipython",
    "version": 3
   },
   "file_extension": ".py",
   "mimetype": "text/x-python",
   "name": "python",
   "nbconvert_exporter": "python",
   "pygments_lexer": "ipython3",
   "version": "3.11.4"
  }
 },
 "nbformat": 4,
 "nbformat_minor": 5
}
