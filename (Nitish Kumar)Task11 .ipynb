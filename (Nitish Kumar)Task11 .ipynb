{
 "cells": [
  {
   "cell_type": "markdown",
   "id": "bcb3976f",
   "metadata": {},
   "source": [
    "Task 1: `Counting Numbers`\n",
    "    \n",
    "    write a program that prints the numbers from 1 to 10, each on a new line.\n",
    "\n",
    "\n",
    "Task 2: `Even Numbers`\n",
    "\n",
    "    write a program that prints the even numbers from 1 to 20, each on a new line.\n",
    "\n",
    "\n",
    "Task 3: `Square Numbers`\n",
    "\n",
    "    Write a program that calculates and prints the square of each number from 1 to 5.\n",
    "\n",
    "\n",
    "Task 4: `Multiples of Three`\n",
    "\n",
    "    write a program that prints the multiples of 3 from 3 to 30, each on a new line.\n",
    "\n",
    "Task 5: `Reverse Counting`\n",
    "\n",
    "    Write a program that prints the numbers from 10 to 1 in descending order, each on a new line."
   ]
  },
  {
   "cell_type": "markdown",
   "id": "47de2fac",
   "metadata": {},
   "source": [
    "### TASK 1"
   ]
  },
  {
   "cell_type": "code",
   "execution_count": 2,
   "id": "32941661",
   "metadata": {},
   "outputs": [
    {
     "name": "stdout",
     "output_type": "stream",
     "text": [
      "1\n",
      "2\n",
      "3\n",
      "4\n",
      "5\n",
      "6\n",
      "7\n",
      "8\n",
      "9\n",
      "10\n"
     ]
    }
   ],
   "source": [
    "# COUNTING NUMBERS USING FOR LOOP\n",
    "for i in range(1,11):\n",
    "    print(i)"
   ]
  },
  {
   "cell_type": "code",
   "execution_count": 6,
   "id": "872952a0",
   "metadata": {},
   "outputs": [
    {
     "name": "stdout",
     "output_type": "stream",
     "text": [
      "1\n",
      "2\n",
      "3\n",
      "4\n",
      "5\n",
      "6\n",
      "7\n",
      "8\n",
      "9\n",
      "10\n"
     ]
    }
   ],
   "source": [
    "# COUNTING NUMBERS UISNG WHILE LOOP\n",
    "a = 1\n",
    "while a<=10:\n",
    "    print(a)\n",
    "    a = a+1"
   ]
  },
  {
   "cell_type": "markdown",
   "id": "c8b11d5f",
   "metadata": {},
   "source": [
    "### TASK 2"
   ]
  },
  {
   "cell_type": "code",
   "execution_count": 8,
   "id": "25a5cd6a",
   "metadata": {},
   "outputs": [
    {
     "name": "stdout",
     "output_type": "stream",
     "text": [
      "2\n",
      "4\n",
      "6\n",
      "8\n",
      "10\n",
      "12\n",
      "14\n",
      "16\n",
      "18\n",
      "20\n"
     ]
    }
   ],
   "source": [
    "# EVEN NUMBERS FROM 1 TO 20 USING FOR LOOP\n",
    "for i in range(1,21):\n",
    "    if i % 2 == 0:\n",
    "        print(i)"
   ]
  },
  {
   "cell_type": "code",
   "execution_count": 18,
   "id": "fce46d9f",
   "metadata": {},
   "outputs": [
    {
     "name": "stdout",
     "output_type": "stream",
     "text": [
      "0\n",
      "2\n",
      "4\n",
      "6\n",
      "8\n",
      "10\n",
      "12\n",
      "14\n",
      "16\n",
      "18\n",
      "20\n"
     ]
    }
   ],
   "source": [
    "# EVEN NUMBERS FROM 1 TO 20 USING WHILE LOOP\n",
    "a = 0\n",
    "while a<=20:\n",
    "    print(a)\n",
    "    a = a+2"
   ]
  },
  {
   "cell_type": "markdown",
   "id": "3c54efb1",
   "metadata": {},
   "source": [
    "### TASK 3"
   ]
  },
  {
   "cell_type": "code",
   "execution_count": 21,
   "id": "36c98f24",
   "metadata": {},
   "outputs": [
    {
     "name": "stdout",
     "output_type": "stream",
     "text": [
      "1**2 =  1\n",
      "2**2 =  4\n",
      "3**2 =  9\n",
      "4**2 =  16\n",
      "5**2 =  25\n"
     ]
    }
   ],
   "source": [
    "# SQUARE ROOT OF NUMBERS 1 TO 5 USING FOR LOOP\n",
    "for i in range(1,6):\n",
    "    print(f'{i}**2 = ',i**2)"
   ]
  },
  {
   "cell_type": "code",
   "execution_count": 1,
   "id": "ed3c3341",
   "metadata": {},
   "outputs": [
    {
     "name": "stdout",
     "output_type": "stream",
     "text": [
      "1**2 =  1\n",
      "2**2 =  4\n",
      "3**2 =  9\n",
      "4**2 =  16\n",
      "5**2 =  25\n"
     ]
    }
   ],
   "source": [
    "# SQUARE ROOT OF NUMBERS WHILE LOOP\n",
    "a = 1\n",
    "while a<=5:\n",
    "    print(f'{a}**2 = ',a**2)\n",
    "    a = a+1"
   ]
  },
  {
   "cell_type": "markdown",
   "id": "fd93a553",
   "metadata": {},
   "source": [
    "### TASK 4"
   ]
  },
  {
   "cell_type": "code",
   "execution_count": 3,
   "id": "fb8d7c47",
   "metadata": {},
   "outputs": [
    {
     "name": "stdout",
     "output_type": "stream",
     "text": [
      "3\n",
      "6\n",
      "9\n",
      "12\n",
      "15\n",
      "18\n",
      "21\n",
      "24\n",
      "27\n",
      "30\n"
     ]
    }
   ],
   "source": [
    "# MULTIPLES OF 3 FROM 3 TO 30 USING FOR LOOP\n",
    "for i in range(3,31):\n",
    "    if i % 3 == 0:\n",
    "        print(i)"
   ]
  },
  {
   "cell_type": "code",
   "execution_count": 4,
   "id": "c3954d51",
   "metadata": {},
   "outputs": [
    {
     "name": "stdout",
     "output_type": "stream",
     "text": [
      "3\n",
      "6\n",
      "9\n",
      "12\n",
      "15\n",
      "18\n",
      "21\n",
      "24\n",
      "27\n",
      "30\n"
     ]
    }
   ],
   "source": [
    "# MULTIPLES OF 3 FROM 3 TO 30 USING WHILE LOOP\n",
    "a = 3\n",
    "while a<=30:\n",
    "    if a % 3 == 0:\n",
    "        print(a)\n",
    "    a = a+1"
   ]
  },
  {
   "cell_type": "markdown",
   "id": "08a71848",
   "metadata": {},
   "source": [
    "### TASK 5"
   ]
  },
  {
   "cell_type": "code",
   "execution_count": 5,
   "id": "b96408dc",
   "metadata": {},
   "outputs": [
    {
     "name": "stdout",
     "output_type": "stream",
     "text": [
      "10\n",
      "9\n",
      "8\n",
      "7\n",
      "6\n",
      "5\n",
      "4\n",
      "3\n",
      "2\n",
      "1\n"
     ]
    }
   ],
   "source": [
    "# REVERSE PRINTING NUMBERS FROM 10 TO 1 USING FOR LOOP\n",
    "for i in range(10,0,-1):\n",
    "    print(i)"
   ]
  },
  {
   "cell_type": "code",
   "execution_count": 8,
   "id": "eac92f46",
   "metadata": {},
   "outputs": [
    {
     "name": "stdout",
     "output_type": "stream",
     "text": [
      "10\n",
      "9\n",
      "8\n",
      "7\n",
      "6\n",
      "5\n",
      "4\n",
      "3\n",
      "2\n",
      "1\n"
     ]
    }
   ],
   "source": [
    "#REVERSE PRINTING NUMBERS FROM 10 TO 1 USING  WHILE LOOP\n",
    "a= 10\n",
    "while a>=1:\n",
    "    print(a)\n",
    "    a = a-1"
   ]
  }
 ],
 "metadata": {
  "kernelspec": {
   "display_name": "Python 3 (ipykernel)",
   "language": "python",
   "name": "python3"
  },
  "language_info": {
   "codemirror_mode": {
    "name": "ipython",
    "version": 3
   },
   "file_extension": ".py",
   "mimetype": "text/x-python",
   "name": "python",
   "nbconvert_exporter": "python",
   "pygments_lexer": "ipython3",
   "version": "3.11.4"
  }
 },
 "nbformat": 4,
 "nbformat_minor": 5
}
