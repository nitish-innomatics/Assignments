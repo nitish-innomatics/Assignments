{
 "cells": [
  {
   "cell_type": "markdown",
   "id": "8060b9a4",
   "metadata": {},
   "source": [
    "**while loops and their use in programming.**\n",
    "1. Write a Python program that uses a while loop to print the numbers from `A` to `P`.\n",
    "\n",
    "2. Modify the program to print only the even numbers from `1 to 20 except mutiple of 3` using a while loop.\n",
    "\n",
    "3. Create a program that prompts the user for an integer input and then uses a while loop to print the countdown from `that number to 1`.\n",
    "\n",
    "\n",
    "4. Write a Python program that uses a while loop to repeatedly ask the user to enter a number. If the user enters 0, exit the loop using the `break` statement. Otherwise, continue prompting for numbers.\n",
    "\n",
    "5. Create a program that uses a while loop to print the numbers from 1 to 20, but skip printing the numbers 5, 10, and 15 using the `continue` statement.\n",
    "\n",
    "6. Write a Python program that simulates a simple password entry system. Ask the user to enter a password, and use a while loop to repeatedly prompt for the password until the correct password \"abc123\" is entered. Once the correct password is entered, exit the loop.\n",
    "\n",
    "7. Calculate and print the sum of all the positive integers entered by the user.\n",
    "\n",
    "\n",
    "\n",
    "."
   ]
  },
  {
   "cell_type": "code",
   "execution_count": 8,
   "id": "f9501fc9",
   "metadata": {},
   "outputs": [
    {
     "name": "stdout",
     "output_type": "stream",
     "text": [
      "A\n",
      "B\n",
      "C\n",
      "D\n",
      "E\n",
      "F\n",
      "G\n",
      "H\n",
      "I\n",
      "J\n",
      "K\n",
      "L\n",
      "M\n",
      "N\n",
      "O\n",
      "P\n"
     ]
    }
   ],
   "source": [
    "# USING PYTHON PROGRAM PRINTING LETTERS FROM 'A TO P'\n",
    "a = range(1,26)\n",
    "b = 1\n",
    "while b < 26 :\n",
    "    for i in a:\n",
    "        if i < 17:\n",
    "            print(chr(64+i))\n",
    "        b = b+1\n",
    "        "
   ]
  },
  {
   "cell_type": "code",
   "execution_count": 11,
   "id": "662679bb",
   "metadata": {},
   "outputs": [
    {
     "name": "stdout",
     "output_type": "stream",
     "text": [
      "2\n",
      "4\n",
      "8\n",
      "10\n",
      "14\n",
      "16\n"
     ]
    }
   ],
   "source": [
    "# printing numbers from '1 to 20' which are even numbers and not divisible by 3\n",
    "a = range(1,20)\n",
    "b = 1\n",
    "while b < 20:\n",
    "    for i in a:\n",
    "        if i % 2 == 0  and i % 3 != 0:\n",
    "            print(i)\n",
    "        b = b+1"
   ]
  },
  {
   "cell_type": "code",
   "execution_count": 4,
   "id": "687bd157",
   "metadata": {},
   "outputs": [
    {
     "name": "stdout",
     "output_type": "stream",
     "text": [
      "User Input: 20\n",
      "20\n",
      "19\n",
      "18\n",
      "17\n",
      "16\n",
      "15\n",
      "14\n",
      "13\n",
      "12\n",
      "11\n",
      "10\n",
      "9\n",
      "8\n",
      "7\n",
      "6\n",
      "5\n",
      "4\n",
      "3\n",
      "2\n",
      "1\n"
     ]
    }
   ],
   "source": [
    "# BY USING PYTHON PROGRAM ASK USER TO ENTER THE INTEGER INPUT AND PRINT COUNTDOWN OF THAT INPUT TO 1\n",
    "user = int(input(\"User Input: \"))\n",
    "while user:\n",
    "    for i in range(user,0,-1):\n",
    "        print(i)\n",
    "    break\n",
    "\n",
    "    "
   ]
  },
  {
   "cell_type": "code",
   "execution_count": 5,
   "id": "78b38bd1",
   "metadata": {},
   "outputs": [
    {
     "name": "stdout",
     "output_type": "stream",
     "text": [
      "user input: 23\n",
      "23\n",
      "user input :2\n",
      "2\n",
      "user input :33\n",
      "33\n",
      "user input :2\n",
      "2\n",
      "user input :30\n",
      "30\n",
      "user input :0\n",
      "THE END\n"
     ]
    }
   ],
   "source": [
    "# question no:4\n",
    "user = int(input(\"user input: \"))\n",
    "while user :\n",
    "    if user !=0 :\n",
    "        print(user)\n",
    "        user = int(input(\"user input :\" ))\n",
    "    else:\n",
    "        if i == 0:\n",
    "            break\n",
    "print(\"THE END\")                \n",
    "            \n"
   ]
  },
  {
   "cell_type": "code",
   "execution_count": 6,
   "id": "a928cfc2",
   "metadata": {},
   "outputs": [
    {
     "name": "stdout",
     "output_type": "stream",
     "text": [
      "1\n",
      "2\n",
      "3\n",
      "4\n",
      "6\n",
      "7\n",
      "8\n",
      "9\n",
      "11\n",
      "12\n",
      "13\n",
      "14\n",
      "16\n",
      "17\n",
      "18\n",
      "19\n"
     ]
    }
   ],
   "source": [
    "# question no:5\n",
    "a = range(1,20)\n",
    "b = 0\n",
    "while b < 20:\n",
    "    for i in a:\n",
    "        if i not in (5,10,15):\n",
    "            print(i)\n",
    "            b = b+1\n",
    "            continue\n",
    "    else:\n",
    "        break\n"
   ]
  },
  {
   "cell_type": "code",
   "execution_count": null,
   "id": "e89d4f30",
   "metadata": {},
   "outputs": [
    {
     "name": "stdout",
     "output_type": "stream",
     "text": [
      "ENTER THE PASSWORD :koi\n",
      "incorrect password try again\n",
      "ENTER THE PASSWORD :kdfhwe\n",
      "incorrect password try again\n",
      "ENTER THE PASSWORD :dhgo\n",
      "incorrect password try again\n",
      "ENTER THE PASSWORD :12HS\n",
      "incorrect password try again\n",
      "ENTER THE PASSWORD :123abc\n",
      "incorrect password try again\n",
      "ENTER THE PASSWORD :123Abc\n"
     ]
    }
   ],
   "source": [
    "# question no: 6\n",
    "password = \"123Abc\"\n",
    "user = input(\"ENTER THE PASSWORD :\" )\n",
    "while user:\n",
    "    for i in user:\n",
    "        if user != password:\n",
    "            print(\"incorrect password try again\")\n",
    "            user = input(\"ENTER THE PASSWORD :\")\n",
    "        else:\n",
    "            if password == user:\n",
    "                break\n",
    "            "
   ]
  },
  {
   "cell_type": "code",
   "execution_count": 3,
   "id": "a96c7951",
   "metadata": {},
   "outputs": [
    {
     "name": "stdout",
     "output_type": "stream",
     "text": [
      "enter the number :10\n",
      "55\n"
     ]
    }
   ],
   "source": [
    "# question no:7\n",
    "user = int(input(\"enter the number :\"))\n",
    "total = 0\n",
    "while user:\n",
    "    for i in range(user+1):\n",
    "        total = total + i\n",
    "    print(total)\n",
    "    break"
   ]
  }
 ],
 "metadata": {
  "kernelspec": {
   "display_name": "Python 3 (ipykernel)",
   "language": "python",
   "name": "python3"
  },
  "language_info": {
   "codemirror_mode": {
    "name": "ipython",
    "version": 3
   },
   "file_extension": ".py",
   "mimetype": "text/x-python",
   "name": "python",
   "nbconvert_exporter": "python",
   "pygments_lexer": "ipython3",
   "version": "3.11.4"
  }
 },
 "nbformat": 4,
 "nbformat_minor": 5
}
