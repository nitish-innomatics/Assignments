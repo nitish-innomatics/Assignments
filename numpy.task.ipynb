{
 "cells": [
  {
   "cell_type": "markdown",
   "id": "3e68a71d",
   "metadata": {},
   "source": [
    "### creating array using numpy"
   ]
  },
  {
   "cell_type": "code",
   "execution_count": 2,
   "id": "66620c74",
   "metadata": {},
   "outputs": [],
   "source": [
    "import numpy as na"
   ]
  },
  {
   "cell_type": "code",
   "execution_count": 4,
   "id": "83aa2dbb",
   "metadata": {},
   "outputs": [
    {
     "data": {
      "text/plain": [
       "numpy.ndarray"
      ]
     },
     "execution_count": 4,
     "metadata": {},
     "output_type": "execute_result"
    }
   ],
   "source": [
    "array1 =na.array([1,23,45,67,98,89])\n",
    "type(array1)"
   ]
  },
  {
   "cell_type": "code",
   "execution_count": 6,
   "id": "051f6f38",
   "metadata": {},
   "outputs": [
    {
     "data": {
      "text/plain": [
       "array([ 1,  2,  3,  4,  5,  6,  7, 98])"
      ]
     },
     "execution_count": 6,
     "metadata": {},
     "output_type": "execute_result"
    }
   ],
   "source": [
    "# array from list\n",
    "list1 = [1,2,3,4,5,6,7,98]\n",
    "na.array(list1)"
   ]
  },
  {
   "cell_type": "code",
   "execution_count": 7,
   "id": "b9ab7fa7",
   "metadata": {},
   "outputs": [
    {
     "data": {
      "text/plain": [
       "array([ 1,  2,  3,  4,  5,  6,  7, 89])"
      ]
     },
     "execution_count": 7,
     "metadata": {},
     "output_type": "execute_result"
    }
   ],
   "source": [
    "# array from tuple\n",
    "list2 = (1,2,3,4,5,6,7,89)\n",
    "na.array(list2)"
   ]
  },
  {
   "cell_type": "markdown",
   "id": "5760d7d9",
   "metadata": {},
   "source": [
    "### creating 1D array using numpy with 12 postive integers as arr1"
   ]
  },
  {
   "cell_type": "code",
   "execution_count": 8,
   "id": "181e5a70",
   "metadata": {},
   "outputs": [],
   "source": [
    "arr1 = na.array([1,2,3,4,5,6,7,8,9,10,11,12])\n"
   ]
  },
  {
   "cell_type": "code",
   "execution_count": 9,
   "id": "c9c7aa3a",
   "metadata": {},
   "outputs": [
    {
     "data": {
      "text/plain": [
       "dtype('int32')"
      ]
     },
     "execution_count": 9,
     "metadata": {},
     "output_type": "execute_result"
    }
   ],
   "source": [
    "arr1.dtype # returns integer data type"
   ]
  },
  {
   "cell_type": "code",
   "execution_count": 10,
   "id": "b5f08662",
   "metadata": {},
   "outputs": [
    {
     "data": {
      "text/plain": [
       "1"
      ]
     },
     "execution_count": 10,
     "metadata": {},
     "output_type": "execute_result"
    }
   ],
   "source": [
    "arr1.ndim # 1 returns as 1-D array"
   ]
  },
  {
   "cell_type": "markdown",
   "id": "9d433852",
   "metadata": {},
   "source": [
    "### creating 1-D array with 20 elements from 0 to 12 integers using linspace "
   ]
  },
  {
   "cell_type": "code",
   "execution_count": 14,
   "id": "468b35cc",
   "metadata": {},
   "outputs": [],
   "source": [
    "array1 = na.linspace(0,12,20)"
   ]
  },
  {
   "cell_type": "code",
   "execution_count": 15,
   "id": "db526821",
   "metadata": {},
   "outputs": [
    {
     "data": {
      "text/plain": [
       "array([ 0.        ,  0.63157895,  1.26315789,  1.89473684,  2.52631579,\n",
       "        3.15789474,  3.78947368,  4.42105263,  5.05263158,  5.68421053,\n",
       "        6.31578947,  6.94736842,  7.57894737,  8.21052632,  8.84210526,\n",
       "        9.47368421, 10.10526316, 10.73684211, 11.36842105, 12.        ])"
      ]
     },
     "execution_count": 15,
     "metadata": {},
     "output_type": "execute_result"
    }
   ],
   "source": [
    "array1"
   ]
  },
  {
   "cell_type": "markdown",
   "id": "bc9602d5",
   "metadata": {},
   "source": [
    "### attributes of array1 and array2"
   ]
  },
  {
   "cell_type": "code",
   "execution_count": 18,
   "id": "58b4eaac",
   "metadata": {},
   "outputs": [],
   "source": [
    "array1 = na.array([1,2,3,45,67,98,89])\n",
    "array2 = na.array([9.8,8.9,8.8,9.9,9.0,8.0])"
   ]
  },
  {
   "cell_type": "code",
   "execution_count": 19,
   "id": "bbf3ec60",
   "metadata": {},
   "outputs": [
    {
     "data": {
      "text/plain": [
       "dtype('int32')"
      ]
     },
     "execution_count": 19,
     "metadata": {},
     "output_type": "execute_result"
    }
   ],
   "source": [
    "array1.dtype # retunrs the array data type"
   ]
  },
  {
   "cell_type": "code",
   "execution_count": 20,
   "id": "df271d56",
   "metadata": {},
   "outputs": [
    {
     "data": {
      "text/plain": [
       "dtype('float64')"
      ]
     },
     "execution_count": 20,
     "metadata": {},
     "output_type": "execute_result"
    }
   ],
   "source": [
    "array2.dtype"
   ]
  },
  {
   "cell_type": "code",
   "execution_count": 22,
   "id": "b1be3868",
   "metadata": {},
   "outputs": [
    {
     "data": {
      "text/plain": [
       "4"
      ]
     },
     "execution_count": 22,
     "metadata": {},
     "output_type": "execute_result"
    }
   ],
   "source": [
    "array1.itemsize # retunrs the memory occupied by each value"
   ]
  },
  {
   "cell_type": "code",
   "execution_count": 23,
   "id": "f29c583e",
   "metadata": {},
   "outputs": [
    {
     "data": {
      "text/plain": [
       "8"
      ]
     },
     "execution_count": 23,
     "metadata": {},
     "output_type": "execute_result"
    }
   ],
   "source": [
    "array2.itemsize"
   ]
  },
  {
   "cell_type": "code",
   "execution_count": 26,
   "id": "5edd682e",
   "metadata": {},
   "outputs": [
    {
     "data": {
      "text/plain": [
       "43.57142857142857"
      ]
     },
     "execution_count": 26,
     "metadata": {},
     "output_type": "execute_result"
    }
   ],
   "source": [
    "array1.mean() # returns mean of the array"
   ]
  },
  {
   "cell_type": "code",
   "execution_count": 27,
   "id": "233fbd2f",
   "metadata": {},
   "outputs": [
    {
     "data": {
      "text/plain": [
       "9.066666666666668"
      ]
     },
     "execution_count": 27,
     "metadata": {},
     "output_type": "execute_result"
    }
   ],
   "source": [
    "array2.mean()"
   ]
  },
  {
   "cell_type": "code",
   "execution_count": 29,
   "id": "73d84882",
   "metadata": {},
   "outputs": [
    {
     "data": {
      "text/plain": [
       "28"
      ]
     },
     "execution_count": 29,
     "metadata": {},
     "output_type": "execute_result"
    }
   ],
   "source": [
    "array1.nbytes # total memory occupied by the array"
   ]
  },
  {
   "cell_type": "code",
   "execution_count": 30,
   "id": "743fbf99",
   "metadata": {},
   "outputs": [
    {
     "data": {
      "text/plain": [
       "48"
      ]
     },
     "execution_count": 30,
     "metadata": {},
     "output_type": "execute_result"
    }
   ],
   "source": [
    "array2.nbytes "
   ]
  },
  {
   "cell_type": "code",
   "execution_count": 34,
   "id": "8bb9b5f7",
   "metadata": {},
   "outputs": [
    {
     "data": {
      "text/plain": [
       "7"
      ]
     },
     "execution_count": 34,
     "metadata": {},
     "output_type": "execute_result"
    }
   ],
   "source": [
    "array1.size # size of the array"
   ]
  },
  {
   "cell_type": "code",
   "execution_count": 39,
   "id": "1865dd44",
   "metadata": {},
   "outputs": [
    {
     "data": {
      "text/plain": [
       "6"
      ]
     },
     "execution_count": 39,
     "metadata": {},
     "output_type": "execute_result"
    }
   ],
   "source": [
    "array2.size"
   ]
  },
  {
   "cell_type": "code",
   "execution_count": 48,
   "id": "c9b2f471",
   "metadata": {},
   "outputs": [
    {
     "data": {
      "text/plain": [
       "array([ 1.,  2.,  3., 45., 67., 98., 89.])"
      ]
     },
     "execution_count": 48,
     "metadata": {},
     "output_type": "execute_result"
    }
   ],
   "source": [
    "array1.astype(\"float64\") # can convert the datatype fo the array"
   ]
  },
  {
   "cell_type": "code",
   "execution_count": 49,
   "id": "f1ae14af",
   "metadata": {},
   "outputs": [
    {
     "data": {
      "text/plain": [
       "array([9, 8, 8, 9, 9, 8], dtype=int64)"
      ]
     },
     "execution_count": 49,
     "metadata": {},
     "output_type": "execute_result"
    }
   ],
   "source": [
    "array2.astype(\"int64\")"
   ]
  },
  {
   "cell_type": "markdown",
   "id": "df5d9367",
   "metadata": {},
   "source": [
    "### measure and describe the data for array1 and array2 using numpy"
   ]
  },
  {
   "cell_type": "code",
   "execution_count": 59,
   "id": "fe199556",
   "metadata": {},
   "outputs": [
    {
     "data": {
      "text/plain": [
       "array([ 1,  2,  3, 45, 67, 89, 98])"
      ]
     },
     "execution_count": 59,
     "metadata": {},
     "output_type": "execute_result"
    }
   ],
   "source": [
    "array1"
   ]
  },
  {
   "cell_type": "code",
   "execution_count": 61,
   "id": "636c8beb",
   "metadata": {},
   "outputs": [
    {
     "data": {
      "text/plain": [
       "43.57142857142857"
      ]
     },
     "execution_count": 61,
     "metadata": {},
     "output_type": "execute_result"
    }
   ],
   "source": [
    "# measure of central tendency\n",
    "array1.mean() # mean of array"
   ]
  },
  {
   "cell_type": "code",
   "execution_count": 62,
   "id": "1b595da0",
   "metadata": {},
   "outputs": [
    {
     "data": {
      "text/plain": [
       "array([9.8, 8.9, 8.8, 9.9, 9. , 8. ])"
      ]
     },
     "execution_count": 62,
     "metadata": {},
     "output_type": "execute_result"
    }
   ],
   "source": [
    "array2"
   ]
  },
  {
   "cell_type": "code",
   "execution_count": 64,
   "id": "90a54b4a",
   "metadata": {},
   "outputs": [
    {
     "data": {
      "text/plain": [
       "9.066666666666668"
      ]
     },
     "execution_count": 64,
     "metadata": {},
     "output_type": "execute_result"
    }
   ],
   "source": [
    "array2.mean()"
   ]
  },
  {
   "cell_type": "code",
   "execution_count": 67,
   "id": "376b6d2c",
   "metadata": {},
   "outputs": [
    {
     "data": {
      "text/plain": [
       "45.0"
      ]
     },
     "execution_count": 67,
     "metadata": {},
     "output_type": "execute_result"
    }
   ],
   "source": [
    "na.median(array1) # median"
   ]
  },
  {
   "cell_type": "code",
   "execution_count": 68,
   "id": "9ecf3cd8",
   "metadata": {},
   "outputs": [
    {
     "data": {
      "text/plain": [
       "8.95"
      ]
     },
     "execution_count": 68,
     "metadata": {},
     "output_type": "execute_result"
    }
   ],
   "source": [
    "na.median(array2)"
   ]
  },
  {
   "cell_type": "code",
   "execution_count": 70,
   "id": "0cc099ec",
   "metadata": {},
   "outputs": [
    {
     "data": {
      "text/plain": [
       "97"
      ]
     },
     "execution_count": 70,
     "metadata": {},
     "output_type": "execute_result"
    }
   ],
   "source": [
    "# to find range of array\n",
    "na.min(array1)\n",
    "na.max(array1)\n",
    "range1 = na.max(array1) - na.min(array1)\n",
    "range1"
   ]
  },
  {
   "cell_type": "code",
   "execution_count": 72,
   "id": "263131d3",
   "metadata": {},
   "outputs": [
    {
     "data": {
      "text/plain": [
       "1.9000000000000004"
      ]
     },
     "execution_count": 72,
     "metadata": {},
     "output_type": "execute_result"
    }
   ],
   "source": [
    "na.max(array2)\n",
    "na.min(array2)\n",
    "range2 = na.max(array2) - na.min(array2)\n",
    "range2"
   ]
  },
  {
   "cell_type": "code",
   "execution_count": 74,
   "id": "aa5fb9c6",
   "metadata": {},
   "outputs": [
    {
     "data": {
      "text/plain": [
       "75.5"
      ]
     },
     "execution_count": 74,
     "metadata": {},
     "output_type": "execute_result"
    }
   ],
   "source": [
    "# to find the outlier we use IQR\n",
    "q1 = na.percentile(array1,25)\n",
    "q3 = na.percentile(array1,75)\n",
    "IQR = q3 - q1\n",
    "IQR"
   ]
  },
  {
   "cell_type": "code",
   "execution_count": 75,
   "id": "91855f34",
   "metadata": {},
   "outputs": [
    {
     "data": {
      "text/plain": [
       "-110.75"
      ]
     },
     "execution_count": 75,
     "metadata": {},
     "output_type": "execute_result"
    }
   ],
   "source": [
    "lower = q1 - (1.5*IQR)\n",
    "lower"
   ]
  },
  {
   "cell_type": "code",
   "execution_count": 76,
   "id": "e4b7c3ec",
   "metadata": {},
   "outputs": [
    {
     "data": {
      "text/plain": [
       "191.25"
      ]
     },
     "execution_count": 76,
     "metadata": {},
     "output_type": "execute_result"
    }
   ],
   "source": [
    "upper = q3 + (1.5*IQR)\n",
    "upper"
   ]
  },
  {
   "cell_type": "code",
   "execution_count": 77,
   "id": "291c88ed",
   "metadata": {},
   "outputs": [
    {
     "data": {
      "text/plain": [
       "array([], dtype=int32)"
      ]
     },
     "execution_count": 77,
     "metadata": {},
     "output_type": "execute_result"
    }
   ],
   "source": [
    "array1[array1>upper] # there is no outlier"
   ]
  },
  {
   "cell_type": "code",
   "execution_count": 79,
   "id": "e5356f5b",
   "metadata": {},
   "outputs": [
    {
     "data": {
      "text/plain": [
       "array([], dtype=int32)"
      ]
     },
     "execution_count": 79,
     "metadata": {},
     "output_type": "execute_result"
    }
   ],
   "source": [
    "array1[array1<lower] #  there is no outlier"
   ]
  },
  {
   "cell_type": "code",
   "execution_count": null,
   "id": "43ad5a4e",
   "metadata": {},
   "outputs": [],
   "source": []
  }
 ],
 "metadata": {
  "kernelspec": {
   "display_name": "Python 3 (ipykernel)",
   "language": "python",
   "name": "python3"
  },
  "language_info": {
   "codemirror_mode": {
    "name": "ipython",
    "version": 3
   },
   "file_extension": ".py",
   "mimetype": "text/x-python",
   "name": "python",
   "nbconvert_exporter": "python",
   "pygments_lexer": "ipython3",
   "version": "3.11.4"
  }
 },
 "nbformat": 4,
 "nbformat_minor": 5
}
